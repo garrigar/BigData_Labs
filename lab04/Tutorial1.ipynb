{
 "cells": [
  {
   "cell_type": "code",
   "execution_count": 1,
   "id": "cea67c53-8275-46b5-a25a-a46d5543a693",
   "metadata": {},
   "outputs": [],
   "source": [
    "import logging\n",
    "logging.basicConfig()"
   ]
  },
  {
   "cell_type": "code",
   "execution_count": 2,
   "id": "e79fe432-4946-470f-bc18-6a560daf8af6",
   "metadata": {},
   "outputs": [],
   "source": [
    "from kazoo.client import KazooClient "
   ]
  },
  {
   "cell_type": "code",
   "execution_count": 3,
   "id": "f2bd0159-9828-4299-b2e0-42abf168f20e",
   "metadata": {},
   "outputs": [],
   "source": [
    "zk = KazooClient()\n",
    "zk.start()"
   ]
  },
  {
   "cell_type": "markdown",
   "id": "353095c4-9dd3-40f0-a2d1-4b51eba3ddb4",
   "metadata": {},
   "source": [
    "## Basic commands (getting and creating nodes)\n"
   ]
  },
  {
   "cell_type": "code",
   "execution_count": 4,
   "id": "2a4a14fe-4cf7-4c1d-b4de-4140605ff969",
   "metadata": {},
   "outputs": [
    {
     "data": {
      "text/plain": [
       "['zookeeper']"
      ]
     },
     "execution_count": 4,
     "metadata": {},
     "output_type": "execute_result"
    }
   ],
   "source": [
    " # Same as `ls /`\n",
    "zk.get_children(\"/\")"
   ]
  },
  {
   "cell_type": "code",
   "execution_count": 5,
   "id": "f1c40fcb-004e-423b-be21-5d722d5d6f15",
   "metadata": {},
   "outputs": [
    {
     "data": {
      "text/plain": [
       "(['quota'], [])"
      ]
     },
     "execution_count": 5,
     "metadata": {},
     "output_type": "execute_result"
    }
   ],
   "source": [
    "zk.get_children(\"/zookeeper\"), zk.get_children(\"/zookeeper/quota\") "
   ]
  },
  {
   "cell_type": "code",
   "execution_count": 6,
   "id": "d90ef06d-4d1b-4147-abd8-6e0dcf6d85bb",
   "metadata": {},
   "outputs": [
    {
     "data": {
      "text/plain": [
       "'/mynode'"
      ]
     },
     "execution_count": 6,
     "metadata": {},
     "output_type": "execute_result"
    }
   ],
   "source": [
    "zk.create(path=\"/mynode\", value=b\"first_version\") "
   ]
  },
  {
   "cell_type": "code",
   "execution_count": 7,
   "id": "3aaea6c7-191a-40d3-8888-e4b1e84d2a55",
   "metadata": {},
   "outputs": [
    {
     "data": {
      "text/plain": [
       "['mynode', 'zookeeper']"
      ]
     },
     "execution_count": 7,
     "metadata": {},
     "output_type": "execute_result"
    }
   ],
   "source": [
    "zk.get_children(\"/\") "
   ]
  },
  {
   "cell_type": "code",
   "execution_count": 8,
   "id": "0498f274-999b-41d7-94d4-23ea98519aea",
   "metadata": {},
   "outputs": [
    {
     "data": {
      "text/plain": [
       "(b'first_version',\n",
       " ZnodeStat(czxid=33387, mzxid=33387, ctime=1640047375911, mtime=1640047375911, version=0, cversion=0, aversion=0, ephemeralOwner=0, dataLength=13, numChildren=0, pzxid=33387))"
      ]
     },
     "execution_count": 8,
     "metadata": {},
     "output_type": "execute_result"
    }
   ],
   "source": [
    "zk.get('/mynode')  # Returns tuple (Value, Metadata), same as get /mynode && stat /mynode "
   ]
  },
  {
   "cell_type": "code",
   "execution_count": 9,
   "id": "fb875f02-37c5-437f-bbb3-c599f24bab49",
   "metadata": {},
   "outputs": [
    {
     "data": {
      "text/plain": [
       "ZnodeStat(czxid=33387, mzxid=33388, ctime=1640047375911, mtime=1640047375992, version=1, cversion=0, aversion=0, ephemeralOwner=0, dataLength=14, numChildren=0, pzxid=33387)"
      ]
     },
     "execution_count": 9,
     "metadata": {},
     "output_type": "execute_result"
    }
   ],
   "source": [
    "zk.set('/mynode', value=b\"second_version\") "
   ]
  },
  {
   "cell_type": "code",
   "execution_count": 10,
   "id": "34c2ec1d-421c-48d7-a934-e91f6da17a19",
   "metadata": {},
   "outputs": [
    {
     "data": {
      "text/plain": [
       "(b'second_version',\n",
       " ZnodeStat(czxid=33387, mzxid=33388, ctime=1640047375911, mtime=1640047375992, version=1, cversion=0, aversion=0, ephemeralOwner=0, dataLength=14, numChildren=0, pzxid=33387))"
      ]
     },
     "execution_count": 10,
     "metadata": {},
     "output_type": "execute_result"
    }
   ],
   "source": [
    "zk.get('/mynode')  "
   ]
  },
  {
   "cell_type": "markdown",
   "id": "489281be-1307-41f0-9b3c-680e43f49262",
   "metadata": {},
   "source": [
    "## Creating two sequential nodes"
   ]
  },
  {
   "cell_type": "raw",
   "id": "d88b3613-636a-45a3-90dc-3787db89d95d",
   "metadata": {},
   "source": [
    "Same as create -s /mynode/child 'data'"
   ]
  },
  {
   "cell_type": "code",
   "execution_count": 11,
   "id": "41a253d0-b6f6-4f5e-b27a-26f1d78716d5",
   "metadata": {},
   "outputs": [
    {
     "data": {
      "text/plain": [
       "'/mynode/child0000000001'"
      ]
     },
     "execution_count": 11,
     "metadata": {},
     "output_type": "execute_result"
    }
   ],
   "source": [
    "zk.create('/mynode/child', value=b'im_sequential', sequence=True)\n",
    "zk.create('/mynode/child', value=b'im_sequential_too', sequence=True)"
   ]
  },
  {
   "cell_type": "code",
   "execution_count": 12,
   "id": "3bdefdba-8c28-4e99-aa9b-7e954d2506fa",
   "metadata": {},
   "outputs": [
    {
     "data": {
      "text/plain": [
       "['child0000000000', 'child0000000001']"
      ]
     },
     "execution_count": 12,
     "metadata": {},
     "output_type": "execute_result"
    }
   ],
   "source": [
    "zk.get_children('/mynode') "
   ]
  },
  {
   "cell_type": "markdown",
   "id": "87d17a53-feea-495d-bc7f-d766879f121d",
   "metadata": {},
   "source": [
    "## Simultanious connections and Ephemeral nodes\n"
   ]
  },
  {
   "cell_type": "code",
   "execution_count": 13,
   "id": "af5db6df-f0c9-4b3c-9d98-c14986f527f9",
   "metadata": {},
   "outputs": [],
   "source": [
    "zk1, zk2 = KazooClient(), KazooClient()\n",
    "zk1.start()\n",
    "zk2.start()"
   ]
  },
  {
   "cell_type": "code",
   "execution_count": 14,
   "id": "83dc5139-9d4e-4e67-95aa-df1234aa46b4",
   "metadata": {},
   "outputs": [
    {
     "data": {
      "text/plain": [
       "'/mygroup'"
      ]
     },
     "execution_count": 14,
     "metadata": {},
     "output_type": "execute_result"
    }
   ],
   "source": [
    "zk.create('/mygroup', b'top_node') "
   ]
  },
  {
   "cell_type": "code",
   "execution_count": 15,
   "id": "f47f8dbc-39b6-48dc-9a78-444e014fa588",
   "metadata": {},
   "outputs": [
    {
     "data": {
      "text/plain": [
       "'/mygroup/bleen'"
      ]
     },
     "execution_count": 15,
     "metadata": {},
     "output_type": "execute_result"
    }
   ],
   "source": [
    "zk1.create('/mygroup/grue', b'im_grue', ephemeral=True)\n",
    "zk2.create('/mygroup/bleen', b'im_bleen', ephemeral=True)"
   ]
  },
  {
   "cell_type": "code",
   "execution_count": 16,
   "id": "49ffa5eb-c230-4a48-b9f5-885aca7de9a7",
   "metadata": {},
   "outputs": [
    {
     "data": {
      "text/plain": [
       "['grue', 'bleen']"
      ]
     },
     "execution_count": 16,
     "metadata": {},
     "output_type": "execute_result"
    }
   ],
   "source": [
    "zk.get_children('/mygroup') "
   ]
  },
  {
   "cell_type": "code",
   "execution_count": 17,
   "id": "70a013ad-c94e-4121-89ec-1771b8242e5a",
   "metadata": {},
   "outputs": [
    {
     "data": {
      "text/plain": [
       "(b'im_bleen',\n",
       " ZnodeStat(czxid=33395, mzxid=33395, ctime=1640047376213, mtime=1640047376213, version=0, cversion=0, aversion=0, ephemeralOwner=72057623493148867, dataLength=8, numChildren=0, pzxid=33395))"
      ]
     },
     "execution_count": 17,
     "metadata": {},
     "output_type": "execute_result"
    }
   ],
   "source": [
    "zk1.get('/mygroup/bleen') "
   ]
  },
  {
   "cell_type": "code",
   "execution_count": 18,
   "id": "7a5aa2ef-f903-4716-8ab1-328a5f775956",
   "metadata": {},
   "outputs": [],
   "source": [
    "zk2.stop() "
   ]
  },
  {
   "cell_type": "code",
   "execution_count": 19,
   "id": "9ff3f4de-3a64-4ca4-8b63-38973e352f95",
   "metadata": {},
   "outputs": [
    {
     "data": {
      "text/plain": [
       "['grue']"
      ]
     },
     "execution_count": 19,
     "metadata": {},
     "output_type": "execute_result"
    }
   ],
   "source": [
    "zk.get_children('/mygroup') "
   ]
  },
  {
   "cell_type": "code",
   "execution_count": 20,
   "id": "e210a028-ee8c-41fd-9578-04b65ea7ab6c",
   "metadata": {},
   "outputs": [
    {
     "name": "stdout",
     "output_type": "stream",
     "text": [
      "ERROR: <class 'kazoo.exceptions.NoNodeError'>\n"
     ]
    }
   ],
   "source": [
    "try:\n",
    "    zk1.get('/mygroup/bleen') \n",
    "except Exception as e:\n",
    "    print('ERROR:', type(e))"
   ]
  },
  {
   "cell_type": "raw",
   "id": "ae9b2a25-6495-4e40-9d9f-55d2847f1d50",
   "metadata": {},
   "source": [
    "(error was expected)"
   ]
  },
  {
   "cell_type": "code",
   "execution_count": 21,
   "id": "7fb53a0d-9950-41a2-86c3-696396fdcd9a",
   "metadata": {},
   "outputs": [
    {
     "data": {
      "text/plain": [
       "(None, None)"
      ]
     },
     "execution_count": 21,
     "metadata": {},
     "output_type": "execute_result"
    }
   ],
   "source": [
    " zk1.stop(), zk2.stop()"
   ]
  },
  {
   "cell_type": "code",
   "execution_count": 22,
   "id": "9d3ff066-4351-4e17-88a4-e1ed2f9e556c",
   "metadata": {},
   "outputs": [],
   "source": [
    " zk.delete('/mygroup', recursive=True)"
   ]
  },
  {
   "cell_type": "markdown",
   "id": "44aad0de-a27b-4927-9285-33b6430c5c13",
   "metadata": {},
   "source": [
    "## Watching events"
   ]
  },
  {
   "cell_type": "code",
   "execution_count": 23,
   "id": "5437e075-cbc3-40ca-bc37-156a62113922",
   "metadata": {},
   "outputs": [
    {
     "data": {
      "text/plain": [
       "'/myconfig'"
      ]
     },
     "execution_count": 23,
     "metadata": {},
     "output_type": "execute_result"
    }
   ],
   "source": [
    "zk.create('/myconfig', b'sheep_count=1') "
   ]
  },
  {
   "cell_type": "code",
   "execution_count": 24,
   "id": "ab423f00-8a15-4361-896e-bb66fdf3bd6e",
   "metadata": {},
   "outputs": [],
   "source": [
    "zk1 = KazooClient()\n",
    "zk1.start()"
   ]
  },
  {
   "cell_type": "code",
   "execution_count": 25,
   "id": "46c14764-f1a4-4f37-8aa4-be9e18f1e738",
   "metadata": {},
   "outputs": [],
   "source": [
    " def watch_node(state):\n",
    "    print(state)"
   ]
  },
  {
   "cell_type": "code",
   "execution_count": 26,
   "id": "91fb6ee3-c1fe-40f8-a042-4f27e9f24f06",
   "metadata": {},
   "outputs": [
    {
     "data": {
      "text/plain": [
       "(b'sheep_count=1',\n",
       " ZnodeStat(czxid=33399, mzxid=33399, ctime=1640047376454, mtime=1640047376454, version=0, cversion=0, aversion=0, ephemeralOwner=0, dataLength=13, numChildren=0, pzxid=33399))"
      ]
     },
     "execution_count": 26,
     "metadata": {},
     "output_type": "execute_result"
    }
   ],
   "source": [
    "zk1.get('/myconfig', watch=watch_node) "
   ]
  },
  {
   "cell_type": "code",
   "execution_count": 27,
   "id": "fff55ea1-79d6-44b7-a7a9-eb8d23423bf3",
   "metadata": {},
   "outputs": [
    {
     "name": "stdout",
     "output_type": "stream",
     "text": [
      "WatchedEvent(type='CHANGED', state='CONNECTED', path='/myconfig')"
     ]
    },
    {
     "data": {
      "text/plain": [
       "ZnodeStat(czxid=33399, mzxid=33401, ctime=1640047376454, mtime=1640047376559, version=1, cversion=0, aversion=0, ephemeralOwner=0, dataLength=13, numChildren=0, pzxid=33399)"
      ]
     },
     "execution_count": 27,
     "metadata": {},
     "output_type": "execute_result"
    },
    {
     "name": "stdout",
     "output_type": "stream",
     "text": [
      "\n"
     ]
    }
   ],
   "source": [
    "zk.set('/myconfig', b'sheep_count=2')"
   ]
  },
  {
   "cell_type": "raw",
   "id": "c0e151b2-9779-4f5c-bc18-a1871aa73791",
   "metadata": {},
   "source": [
    "^ Above we can see how zk1 (client) reacts on node value modification"
   ]
  },
  {
   "cell_type": "code",
   "execution_count": 28,
   "id": "880835ae-9883-4a05-8bd5-eccfe75dd6a6",
   "metadata": {},
   "outputs": [
    {
     "data": {
      "text/plain": [
       "ZnodeStat(czxid=33399, mzxid=33402, ctime=1640047376454, mtime=1640047376590, version=2, cversion=0, aversion=0, ephemeralOwner=0, dataLength=13, numChildren=0, pzxid=33399)"
      ]
     },
     "execution_count": 28,
     "metadata": {},
     "output_type": "execute_result"
    }
   ],
   "source": [
    "zk.set('/myconfig', b'sheep_count=3')  "
   ]
  },
  {
   "cell_type": "raw",
   "id": "565ea834-1251-4a00-86d8-d3d9e667f6c9",
   "metadata": {},
   "source": [
    "^ Trigger (watcher) is resetted "
   ]
  },
  {
   "cell_type": "markdown",
   "id": "f8176926-417a-40ea-ba5b-77ea50c692f4",
   "metadata": {},
   "source": [
    "CLI commands"
   ]
  },
  {
   "cell_type": "raw",
   "id": "59a5f091-ad70-4c06-82e1-2e95bfe07516",
   "metadata": {},
   "source": [
    "root@984961a0c306:/zookeeper-3.4.14# echo conf | nc localhost 2181\n",
    "clientPort=2181\n",
    "dataDir=/data/version-2\n",
    "dataLogDir=/datalog/version-2        \n",
    "tickTime=2000\n",
    "maxClientCnxns=60\n",
    "minSessionTimeout=4000\n",
    "maxSessionTimeout=40000\n",
    "serverId=0\n",
    "\n",
    "root@984961a0c306:/zookeeper-3.4.14# echo stat | nc localhost 2181\n",
    "Zookeeper version: 3.4.14-4c25d480e66aadd371de8bd2fd8da255ac140bcf, built on 03/06/2019 16:18 GMT\n",
    "Clients:\n",
    " /127.0.0.1:52984[0](queued=0,recved=1,sent=0)\n",
    " /172.18.0.1:52980[1](queued=0,recved=120,sent=121)\n",
    " /172.18.0.1:52970[1](queued=0,recved=342,sent=342)\n",
    " /172.18.0.1:52972[1](queued=0,recved=236,sent=236)\n",
    " /127.0.0.1:52968[1](queued=0,recved=207,sent=207)\n",
    "\n",
    "Latency min/avg/max: 0/0/34\n",
    "Received: 967\n",
    "Sent: 967\n",
    "Connections: 5\n",
    "Outstanding: 0\n",
    "Zxid: 0x17\n",
    "Mode: standalone\n",
    "Node count: 8\n",
    "\n",
    "root@984961a0c306:/zookeeper-3.4.14# echo ruok | nc localhost 2181\n",
    "imok\n",
    "\n",
    "root@984961a0c306:/zookeeper-3.4.14# echo cons | nc localhost 2181\n",
    " /172.18.0.1:52980[1](queued=0,recved=157,sent=158,sid=0x1000006dbab0006,lop=PING,est=1640010145686,to=10000,lcxid=0x1,lzxid=0x17,lresp=3287071,llat=0,minlat=0,avglat=0,maxlat=9)\n",
    " /172.18.0.1:52970[1](queued=0,recved=379,sent=379,sid=0x1000006dbab0001,lop=PING,est=1640009496007,to=10000,lcxid=0x16,lzxid=0x17,lresp=3287134,llat=0,minlat=0,avglat=0,maxlat=19)\n",
    " /172.18.0.1:52972[1](queued=0,recved=273,sent=273,sid=0x1000006dbab0002,lop=PING,est=1640009789397,to=10000,lcxid=0x4,lzxid=0x17,lresp=3288369,llat=1,minlat=0,avglat=0,maxlat=10)\n",
    " /127.0.0.1:52968[1](queued=0,recved=219,sent=219,sid=0x1000006dbab0000,lop=PING,est=1640008453606,to=30000,lcxid=0x0,lzxid=0x17,lresp=3285255,llat=1,minlat=0,avglat=0,maxlat=34)\n",
    " /127.0.0.1:52988[0](queued=0,recved=1,sent=0)\n",
    "\n",
    "root@984961a0c306:/zookeeper-3.4.14# echo dump | nc localhost 2181\n",
    "SessionTracker dump:\n",
    "Session Sets (8):\n",
    "0 expire at Thu Jan 01 00:55:40 UTC 1970:\n",
    "0 expire at Thu Jan 01 00:55:42 UTC 1970:\n",
    "0 expire at Thu Jan 01 00:55:44 UTC 1970:\n",
    "0 expire at Thu Jan 01 00:55:46 UTC 1970:\n",
    "2 expire at Thu Jan 01 00:55:48 UTC 1970:\n",
    "        0x1000006dbab0006\n",
    "        0x1000006dbab0001\n",
    "1 expire at Thu Jan 01 00:55:50 UTC 1970:\n",
    "        0x1000006dbab0002\n",
    "0 expire at Thu Jan 01 00:55:56 UTC 1970:\n",
    "1 expire at Thu Jan 01 00:56:06 UTC 1970:\n",
    "        0x1000006dbab0000\n",
    "ephemeral nodes dump:\n",
    "Sessions with Ephemerals (1):\n",
    "0x1000006dbab0002:\n",
    "\n",
    "root@984961a0c306:/zookeeper-3.4.14# echo wchs | nc localhost 2181\n",
    "1 connections watching 0 paths\n",
    "Total watches:0\n",
    "root@984961a0c306:/zookeeper-3.4.14#"
   ]
  },
  {
   "cell_type": "code",
   "execution_count": 29,
   "id": "d8bbe066-aad6-457b-82f9-a43562011416",
   "metadata": {},
   "outputs": [],
   "source": [
    "# clearing all trash in the end\n",
    "for path in ['mynode', 'myconfig']:\n",
    "    zk.delete(f'/{path}', recursive=True)"
   ]
  },
  {
   "cell_type": "code",
   "execution_count": 30,
   "id": "27739444-7790-4931-a5bd-77ab755b1321",
   "metadata": {},
   "outputs": [
    {
     "data": {
      "text/plain": [
       "['zookeeper']"
      ]
     },
     "execution_count": 30,
     "metadata": {},
     "output_type": "execute_result"
    }
   ],
   "source": [
    "zk.get_children(\"/\")"
   ]
  },
  {
   "cell_type": "code",
   "execution_count": 31,
   "id": "6a493e58-cdcf-4dbd-8781-f73333efa8f0",
   "metadata": {},
   "outputs": [],
   "source": [
    "zk.stop()\n",
    "zk.close()"
   ]
  },
  {
   "cell_type": "code",
   "execution_count": null,
   "id": "0f2f21cf-7331-4960-a173-13a407edf9e8",
   "metadata": {},
   "outputs": [],
   "source": []
  }
 ],
 "metadata": {
  "kernelspec": {
   "display_name": "Python 3 (ipykernel)",
   "language": "python",
   "name": "python3"
  },
  "language_info": {
   "codemirror_mode": {
    "name": "ipython",
    "version": 3
   },
   "file_extension": ".py",
   "mimetype": "text/x-python",
   "name": "python",
   "nbconvert_exporter": "python",
   "pygments_lexer": "ipython3",
   "version": "3.7.3"
  }
 },
 "nbformat": 4,
 "nbformat_minor": 5
}

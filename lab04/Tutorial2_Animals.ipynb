{
 "cells": [
  {
   "cell_type": "code",
   "execution_count": 1,
   "id": "4b38a710-823c-4296-abb6-1cf092ba89bc",
   "metadata": {},
   "outputs": [],
   "source": [
    "import logging\n",
    "\n",
    "from kazoo.client import KazooClient\n",
    "from kazoo.recipe.barrier import DoubleBarrier\n",
    "from threading import Thread\n",
    "from time import sleep\n",
    "\n",
    "logging.basicConfig()"
   ]
  },
  {
   "cell_type": "code",
   "execution_count": 2,
   "id": "aabe5492-55ad-46e7-8daa-4d2b1bef9280",
   "metadata": {},
   "outputs": [],
   "source": [
    "NAMESPACE = '/zoo'\n",
    "\n",
    "N_ANIMALS = 2"
   ]
  },
  {
   "cell_type": "code",
   "execution_count": 3,
   "id": "100bf61a-f762-400c-b6bd-aede2e706a0a",
   "metadata": {},
   "outputs": [
    {
     "data": {
      "text/plain": [
       "'/zoo'"
      ]
     },
     "execution_count": 3,
     "metadata": {},
     "output_type": "execute_result"
    }
   ],
   "source": [
    "zk = KazooClient()\n",
    "zk.start()\n",
    "\n",
    "if zk.exists(NAMESPACE):\n",
    "    zk.delete(NAMESPACE, recursive=True)\n",
    "    \n",
    "zk.create(NAMESPACE)"
   ]
  },
  {
   "cell_type": "code",
   "execution_count": 4,
   "id": "58a0568a-019c-40c3-8c9c-8007be826c3a",
   "metadata": {},
   "outputs": [],
   "source": [
    "# @zk.ChildrenWatch(NAMESPACE)\n",
    "# def watch_children(children):\n",
    "#     print('Current children list:', children)\n",
    "#     if len(children) < self.party_size:\n",
    "#         print('Waiting for the others.')\n",
    "#     elif len(children) == self.party_size:\n",
    "#         print('Zoo is full')\n",
    "#     else:\n",
    "#         print('Zoo is crowded')\n"
   ]
  },
  {
   "cell_type": "code",
   "execution_count": 5,
   "id": "fc9dd1da-2b90-4f00-a5e8-d6c9e6815a9f",
   "metadata": {},
   "outputs": [],
   "source": [
    "class Animal:\n",
    "    \n",
    "    def __init__(self, name, root, party_size):\n",
    "        self.root = root\n",
    "        self.name = name\n",
    "        self.url = f'{root}/{name}'\n",
    "        self.party_size = party_size\n",
    "        \n",
    "        self.zk = KazooClient()\n",
    "        self.zk.start()\n",
    "        \n",
    "        self.zkb = DoubleBarrier(self.zk, f'{self.root}_barrier', self.party_size)\n",
    "        \n",
    "    def enter(self)    :\n",
    "        self.zk.create(self.url, ephemeral=True)\n",
    "                \n",
    "        @self.zk.ChildrenWatch(self.root)\n",
    "        def watch_node(children):\n",
    "            # just reacting on the callback, let's just print zoo content\n",
    "            if len(children) < self.party_size:\n",
    "                print(f'{self.name} callback | \"Zoo is capable to accept.\"\\n') # Waiting for the others.')\n",
    "            elif len(children) == self.party_size:\n",
    "                print(f'{self.name} callback | \"Zoo is full.\"\\n')\n",
    "            else:\n",
    "                print(f'{self.name} callback | \"Zoo is crowded.\"\\n')\n",
    "        \n",
    "        print(f'{self.name} is waiting....\\n')\n",
    "        self.zkb.enter()\n",
    "        # only when all animals are in there, barrier would be released\n",
    "        print(f'{self.name} RUNS!\\n')\n",
    "        self.zkb.leave()\n",
    "                      \n",
    "    \n",
    "    def leave(self):\n",
    "        self.zk.delete(self.url)\n",
    "        self.zk.stop()\n",
    "        \n"
   ]
  },
  {
   "cell_type": "code",
   "execution_count": 6,
   "id": "4be5c163-ea61-4738-b984-15c9a662e9b8",
   "metadata": {},
   "outputs": [],
   "source": [
    "class AnimalThread(Thread):\n",
    "    \n",
    "    def __init__(self, name, root, party_size):\n",
    "        super().__init__()\n",
    "        self.root = root\n",
    "        self.name = name\n",
    "        self.party_size = party_size\n",
    "        \n",
    "    def run(self):\n",
    "        animal = Animal(self.name, self.root, self.party_size)\n",
    "        animal.enter()\n",
    "        animal.leave()"
   ]
  },
  {
   "cell_type": "code",
   "execution_count": 7,
   "id": "6369ab77-3ff6-47df-a56f-a4d245af08e5",
   "metadata": {},
   "outputs": [],
   "source": [
    "animals = ['cat', 'dog', 'elephant']"
   ]
  },
  {
   "cell_type": "code",
   "execution_count": 8,
   "id": "bb8cea8e-409b-44a1-ba0e-23b6a7a59869",
   "metadata": {},
   "outputs": [],
   "source": [
    "# for name in animals:\n",
    "#     AnimalThread(name, NAMESPACE, len(animals)).start()"
   ]
  },
  {
   "cell_type": "code",
   "execution_count": 9,
   "id": "187b14d3-62de-42cc-a55a-1657df7008a9",
   "metadata": {},
   "outputs": [
    {
     "name": "stdout",
     "output_type": "stream",
     "text": [
      "cat callback | \"Zoo is capable to accept.\"\n",
      "\n",
      "cat is waiting....\n",
      "\n"
     ]
    }
   ],
   "source": [
    "AnimalThread(animals[0], NAMESPACE, len(animals)).start()"
   ]
  },
  {
   "cell_type": "code",
   "execution_count": 10,
   "id": "261bac39-6367-4946-9c4d-59bb20fe1db7",
   "metadata": {},
   "outputs": [
    {
     "name": "stdout",
     "output_type": "stream",
     "text": [
      "dog callback | \"Zoo is capable to accept.\"\n",
      "cat callback | \"Zoo is capable to accept.\"\n",
      "\n",
      "dog is waiting....\n",
      "\n",
      "\n"
     ]
    }
   ],
   "source": [
    "AnimalThread(animals[1], NAMESPACE, len(animals)).start()"
   ]
  },
  {
   "cell_type": "code",
   "execution_count": 11,
   "id": "043b3cb6-28f1-4d0c-814b-91fe0661fe11",
   "metadata": {},
   "outputs": [
    {
     "name": "stdout",
     "output_type": "stream",
     "text": [
      "dog callback | \"Zoo is full.\"\n",
      "elephant callback | \"Zoo is full.\"\n",
      "\n",
      "elephant is waiting....\n",
      "\n",
      "cat callback | \"Zoo is full.\"\n",
      "\n",
      "\n",
      "dog RUNS!\n",
      "cat RUNS!\n",
      "\n",
      "\n",
      "elephant RUNS!\n",
      "\n",
      "cat callback | \"Zoo is capable to accept.\"\n",
      "\n",
      "elephant callback | \"Zoo is capable to accept.\"\n",
      "\n",
      "dog callback | \"Zoo is capable to accept.\"\n",
      "\n",
      "cat callback | \"Zoo is capable to accept.\"\n",
      "\n",
      "dog callback | \"Zoo is capable to accept.\"\n",
      "\n"
     ]
    }
   ],
   "source": [
    "AnimalThread(animals[2], NAMESPACE, len(animals)).start()"
   ]
  },
  {
   "cell_type": "markdown",
   "id": "82cea0bf-0a89-4929-857c-adbd965def4e",
   "metadata": {},
   "source": [
    "## MUST wait for all the threads before cleanup"
   ]
  },
  {
   "cell_type": "code",
   "execution_count": 12,
   "id": "19d125d5-6c32-4ec7-93bb-5b86e33b5bc0",
   "metadata": {},
   "outputs": [],
   "source": [
    "# clearing all trash in the end\n",
    "zk.delete(NAMESPACE, recursive=True)\n",
    "zk.delete(f'{NAMESPACE}_barrier', recursive=True)"
   ]
  },
  {
   "cell_type": "code",
   "execution_count": 13,
   "id": "9f15da86-100d-4d43-933e-d791b93f33d9",
   "metadata": {},
   "outputs": [
    {
     "data": {
      "text/plain": [
       "['zookeeper']"
      ]
     },
     "execution_count": 13,
     "metadata": {},
     "output_type": "execute_result"
    }
   ],
   "source": [
    "zk.get_children(\"/\")"
   ]
  },
  {
   "cell_type": "code",
   "execution_count": 14,
   "id": "735cacd3-82a1-4623-a738-4662f7646d5a",
   "metadata": {},
   "outputs": [],
   "source": [
    "zk.stop()\n",
    "zk.close()"
   ]
  },
  {
   "cell_type": "code",
   "execution_count": null,
   "id": "f94dd460-cfe8-4b41-8e41-7844124daee2",
   "metadata": {},
   "outputs": [],
   "source": []
  }
 ],
 "metadata": {
  "kernelspec": {
   "display_name": "Python 3 (ipykernel)",
   "language": "python",
   "name": "python3"
  },
  "language_info": {
   "codemirror_mode": {
    "name": "ipython",
    "version": 3
   },
   "file_extension": ".py",
   "mimetype": "text/x-python",
   "name": "python",
   "nbconvert_exporter": "python",
   "pygments_lexer": "ipython3",
   "version": "3.7.3"
  }
 },
 "nbformat": 4,
 "nbformat_minor": 5
}

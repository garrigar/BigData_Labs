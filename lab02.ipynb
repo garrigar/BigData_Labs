{
 "cells": [
  {
   "cell_type": "markdown",
   "id": "4aece3c4",
   "metadata": {},
   "source": [
    "# Initializing and getting session"
   ]
  },
  {
   "cell_type": "code",
   "execution_count": 1,
   "id": "c0e43d0f",
   "metadata": {},
   "outputs": [],
   "source": [
    "import findspark\n",
    "findspark.init()"
   ]
  },
  {
   "cell_type": "code",
   "execution_count": 2,
   "id": "e2b7c4c9",
   "metadata": {},
   "outputs": [],
   "source": [
    "from pyspark import SparkContext, SparkConf"
   ]
  },
  {
   "cell_type": "code",
   "execution_count": 3,
   "id": "f3b80094",
   "metadata": {},
   "outputs": [],
   "source": [
    "from datetime import datetime\n",
    "from pyspark.sql.functions import col\n",
    "from pyspark.sql.types import StructType, StructField, StringType, DateType"
   ]
  },
  {
   "cell_type": "code",
   "execution_count": 4,
   "id": "c125a242",
   "metadata": {},
   "outputs": [],
   "source": [
    "from pyspark.sql import SparkSession\n",
    "import os\n",
    "\n",
    "os.environ['PYSPARK_SUBMIT_ARGS'] = '--packages com.databricks:spark-xml_2.12:0.13.0 pyspark-shell'\n",
    "\n",
    "spark_session = SparkSession\\\n",
    "    .builder\\\n",
    "    .getOrCreate()"
   ]
  },
  {
   "cell_type": "code",
   "execution_count": 5,
   "id": "d48d0daa",
   "metadata": {},
   "outputs": [
    {
     "data": {
      "text/html": [
       "\n",
       "            <div>\n",
       "                <p><b>SparkSession - in-memory</b></p>\n",
       "                \n",
       "        <div>\n",
       "            <p><b>SparkContext</b></p>\n",
       "\n",
       "            <p><a href=\"http://maprdemo.mapr.io:4040\">Spark UI</a></p>\n",
       "\n",
       "            <dl>\n",
       "              <dt>Version</dt>\n",
       "                <dd><code>v2.4.5.0-mapr-700</code></dd>\n",
       "              <dt>Master</dt>\n",
       "                <dd><code>local[*]</code></dd>\n",
       "              <dt>AppName</dt>\n",
       "                <dd><code>pyspark-shell</code></dd>\n",
       "            </dl>\n",
       "        </div>\n",
       "        \n",
       "            </div>\n",
       "        "
      ],
      "text/plain": [
       "<pyspark.sql.session.SparkSession at 0x7fdec875f128>"
      ]
     },
     "execution_count": 5,
     "metadata": {},
     "output_type": "execute_result"
    }
   ],
   "source": [
    "spark_session"
   ]
  },
  {
   "cell_type": "code",
   "execution_count": 6,
   "id": "ada9819c",
   "metadata": {},
   "outputs": [],
   "source": [
    "sc = spark_session._sc"
   ]
  },
  {
   "cell_type": "markdown",
   "id": "11b34cc7",
   "metadata": {},
   "source": [
    "# Opening files"
   ]
  },
  {
   "cell_type": "markdown",
   "id": "4ca560c8",
   "metadata": {},
   "source": [
    "## programming languages"
   ]
  },
  {
   "cell_type": "code",
   "execution_count": 7,
   "id": "9b62f46c",
   "metadata": {},
   "outputs": [],
   "source": [
    "lang_df = spark_session.read.option(\"header\", True).option(\"inferSchema\", True).csv(\"file:///home/workspace/data/programming-languages.csv\")"
   ]
  },
  {
   "cell_type": "code",
   "execution_count": 8,
   "id": "57a88121",
   "metadata": {},
   "outputs": [
    {
     "data": {
      "text/plain": [
       "DataFrame[name: string, wikipedia_url: string]"
      ]
     },
     "execution_count": 8,
     "metadata": {},
     "output_type": "execute_result"
    }
   ],
   "source": [
    "lang_df"
   ]
  },
  {
   "cell_type": "code",
   "execution_count": 9,
   "id": "55b850db",
   "metadata": {},
   "outputs": [],
   "source": [
    "langs_list = [row[0] for row in lang_df.select('name').collect()]"
   ]
  },
  {
   "cell_type": "code",
   "execution_count": 10,
   "id": "618bdbae",
   "metadata": {},
   "outputs": [
    {
     "data": {
      "text/plain": [
       "['A# .NET',\n",
       " 'A# (Axiom)',\n",
       " 'A-0 System',\n",
       " 'A+',\n",
       " 'A++',\n",
       " 'ABAP',\n",
       " 'ABC',\n",
       " 'ABC ALGOL',\n",
       " 'ABSET',\n",
       " 'ABSYS',\n",
       " 'ACC',\n",
       " 'Accent',\n",
       " 'Ace DASL',\n",
       " 'ACL2',\n",
       " 'ACT-III',\n",
       " 'Action!',\n",
       " 'ActionScript',\n",
       " 'Ada',\n",
       " 'Adenine',\n",
       " 'Agda']"
      ]
     },
     "execution_count": 10,
     "metadata": {},
     "output_type": "execute_result"
    }
   ],
   "source": [
    "langs_list[:20]"
   ]
  },
  {
   "cell_type": "markdown",
   "id": "a622f451",
   "metadata": {},
   "source": [
    "## posts"
   ]
  },
  {
   "cell_type": "code",
   "execution_count": 11,
   "id": "7056c3eb",
   "metadata": {},
   "outputs": [],
   "source": [
    "posts_df = spark_session.read.format(\"xml\").options(rowTag=\"row\").load('file:///home/workspace/data/posts_sample.xml') "
   ]
  },
  {
   "cell_type": "code",
   "execution_count": 12,
   "id": "f66873ce",
   "metadata": {},
   "outputs": [
    {
     "data": {
      "text/plain": [
       "Row(_AcceptedAnswerId=7, _AnswerCount=13, _Body=\"<p>I want to use a track-bar to change a form's opacity.</p>\\n\\n<p>This is my code:</p>\\n\\n<pre><code>decimal trans = trackBar1.Value / 5000;\\nthis.Opacity = trans;\\n</code></pre>\\n\\n<p>When I build the application, it gives the following error:</p>\\n\\n<blockquote>\\n  <p>Cannot implicitly convert type <code>'decimal'</code> to <code>'double'</code></p>\\n</blockquote>\\n\\n<p>I tried using <code>trans</code> and <code>double</code> but then the control doesn't work. This code worked fine in a past VB.NET project.</p>\\n\", _ClosedDate=None, _CommentCount=2, _CommunityOwnedDate=datetime.datetime(2012, 10, 31, 16, 42, 47, 213000), _CreationDate=datetime.datetime(2008, 7, 31, 21, 42, 52, 667000), _FavoriteCount=48, _Id=4, _LastActivityDate=datetime.datetime(2019, 7, 19, 1, 39, 54, 173000), _LastEditDate=datetime.datetime(2019, 7, 19, 1, 39, 54, 173000), _LastEditorDisplayName='Rich B', _LastEditorUserId=3641067, _OwnerDisplayName=None, _OwnerUserId=8, _ParentId=None, _PostTypeId=1, _Score=630, _Tags='<c#><floating-point><type-conversion><double><decimal>', _Title='Convert Decimal to Double?', _ViewCount=42817)"
      ]
     },
     "execution_count": 12,
     "metadata": {},
     "output_type": "execute_result"
    }
   ],
   "source": [
    "posts_df.head()"
   ]
  },
  {
   "cell_type": "code",
   "execution_count": 13,
   "id": "926901b9",
   "metadata": {},
   "outputs": [
    {
     "data": {
      "text/plain": [
       "'<c#><floating-point><type-conversion><double><decimal>'"
      ]
     },
     "execution_count": 13,
     "metadata": {},
     "output_type": "execute_result"
    }
   ],
   "source": [
    "posts_df.head()._Tags"
   ]
  },
  {
   "cell_type": "markdown",
   "id": "f0d6da68",
   "metadata": {},
   "source": [
    "# Helper functions"
   ]
  },
  {
   "cell_type": "code",
   "execution_count": 14,
   "id": "59944a23",
   "metadata": {},
   "outputs": [],
   "source": [
    "def get_id_lang_year_by_row(row):\n",
    "    language_tag = None\n",
    "    for lang in langs_list:\n",
    "        if f'<{lang.lower()}>' in row._Tags.lower():\n",
    "            language_tag = lang\n",
    "            break\n",
    "    if language_tag is None:\n",
    "        return None\n",
    "    return (row._Id, language_tag, row._CreationDate.year)"
   ]
  },
  {
   "cell_type": "markdown",
   "id": "b4a6648f",
   "metadata": {},
   "source": [
    "# Solution"
   ]
  },
  {
   "cell_type": "code",
   "execution_count": 15,
   "id": "12ce4fac",
   "metadata": {},
   "outputs": [],
   "source": [
    "id_lang_year_rdd = posts_df.rdd\\\n",
    "    .filter(lambda row: row._Tags is not None)\\\n",
    "    .map(get_id_lang_year_by_row)\\\n",
    "    .filter(lambda row: row is not None)"
   ]
  },
  {
   "cell_type": "code",
   "execution_count": 16,
   "id": "9e852c2b",
   "metadata": {},
   "outputs": [],
   "source": [
    "year_lang_count_rdd = id_lang_year_rdd\\\n",
    "    .keyBy(lambda row: (row[2], row[1]))\\\n",
    "    .aggregateByKey( \n",
    "        0,\n",
    "        lambda acc, value: acc + 1,\n",
    "        lambda acc1, acc2: acc1 + acc2,\n",
    "    )\\\n",
    "    .map(lambda row: (row[0][0], row[0][1], row[1]))"
   ]
  },
  {
   "cell_type": "code",
   "execution_count": 17,
   "id": "966b5f7b",
   "metadata": {},
   "outputs": [
    {
     "data": {
      "text/plain": [
       "PythonRDD[42] at RDD at PythonRDD.scala:53"
      ]
     },
     "execution_count": 17,
     "metadata": {},
     "output_type": "execute_result"
    }
   ],
   "source": [
    "year_lang_count_rdd.cache()"
   ]
  },
  {
   "cell_type": "code",
   "execution_count": 18,
   "id": "7eae51dc",
   "metadata": {},
   "outputs": [],
   "source": [
    "result = []\n",
    "\n",
    "for year in range(2010, 2020 + 1):\n",
    "    result.extend(\n",
    "        year_lang_count_rdd\n",
    "        .filter(lambda row: row[0] == year)\n",
    "        .top(10, key=lambda row: row[2])\n",
    "    )"
   ]
  },
  {
   "cell_type": "code",
   "execution_count": 19,
   "id": "41c5567e",
   "metadata": {},
   "outputs": [],
   "source": [
    "top_languages = sc.parallelize(result).toDF().toDF(\"Year\", \"Language\", \"Count\")"
   ]
  },
  {
   "cell_type": "code",
   "execution_count": 20,
   "id": "e9e15757",
   "metadata": {},
   "outputs": [
    {
     "name": "stdout",
     "output_type": "stream",
     "text": [
      "+----+-----------+-----+\n",
      "|Year|   Language|Count|\n",
      "+----+-----------+-----+\n",
      "|2010|       Java|   52|\n",
      "|2010| JavaScript|   44|\n",
      "|2010|        PHP|   42|\n",
      "|2010|     Python|   25|\n",
      "|2010|Objective-C|   23|\n",
      "|2010|          C|   20|\n",
      "|2010|       Ruby|   11|\n",
      "|2010|     Delphi|    7|\n",
      "|2010|          R|    3|\n",
      "|2010|       Perl|    3|\n",
      "|2011|        PHP|   97|\n",
      "|2011|       Java|   92|\n",
      "|2011| JavaScript|   82|\n",
      "|2011|     Python|   35|\n",
      "|2011|Objective-C|   33|\n",
      "|2011|          C|   24|\n",
      "|2011|       Ruby|   17|\n",
      "|2011|     Delphi|    8|\n",
      "|2011|       Perl|    8|\n",
      "|2011|       Bash|    7|\n",
      "|2012|        PHP|  136|\n",
      "|2012| JavaScript|  129|\n",
      "|2012|       Java|  124|\n",
      "|2012|     Python|   65|\n",
      "|2012|Objective-C|   45|\n",
      "|2012|          C|   27|\n",
      "|2012|       Ruby|   25|\n",
      "|2012|       Bash|    9|\n",
      "|2012|          R|    9|\n",
      "|2012|     MATLAB|    6|\n",
      "|2013| JavaScript|  196|\n",
      "|2013|       Java|  191|\n",
      "|2013|        PHP|  173|\n",
      "|2013|     Python|   87|\n",
      "|2013|Objective-C|   40|\n",
      "|2013|          C|   36|\n",
      "|2013|       Ruby|   30|\n",
      "|2013|          R|   25|\n",
      "|2013|       Bash|   11|\n",
      "|2013|      Scala|   10|\n",
      "|2014| JavaScript|  235|\n",
      "|2014|       Java|  228|\n",
      "|2014|        PHP|  154|\n",
      "|2014|     Python|  103|\n",
      "|2014|          C|   52|\n",
      "|2014|Objective-C|   49|\n",
      "|2014|          R|   28|\n",
      "|2014|       Ruby|   20|\n",
      "|2014|     MATLAB|   16|\n",
      "|2014|       Bash|   13|\n",
      "|2015| JavaScript|  270|\n",
      "|2015|       Java|  208|\n",
      "|2015|        PHP|  147|\n",
      "|2015|     Python|  119|\n",
      "|2015|          R|   43|\n",
      "|2015|          C|   38|\n",
      "|2015|Objective-C|   30|\n",
      "|2015|       Ruby|   21|\n",
      "|2015|     MATLAB|   16|\n",
      "|2015|      Scala|   13|\n",
      "|2016| JavaScript|  272|\n",
      "|2016|       Java|  179|\n",
      "|2016|     Python|  141|\n",
      "|2016|        PHP|  126|\n",
      "|2016|          R|   50|\n",
      "|2016|          C|   32|\n",
      "|2016|       Ruby|   21|\n",
      "|2016|      Scala|   16|\n",
      "|2016|       Bash|   16|\n",
      "|2016|     MATLAB|   15|\n",
      "|2017| JavaScript|  244|\n",
      "|2017|       Java|  204|\n",
      "|2017|     Python|  185|\n",
      "|2017|        PHP|  122|\n",
      "|2017|          R|   53|\n",
      "|2017|          C|   24|\n",
      "|2017|Objective-C|   19|\n",
      "|2017|       Ruby|   16|\n",
      "|2017| PowerShell|   14|\n",
      "|2017| TypeScript|   14|\n",
      "|2018|     Python|  214|\n",
      "|2018| JavaScript|  196|\n",
      "|2018|       Java|  145|\n",
      "|2018|        PHP|   99|\n",
      "|2018|          R|   63|\n",
      "|2018|          C|   24|\n",
      "|2018|      Scala|   22|\n",
      "|2018| TypeScript|   21|\n",
      "|2018| PowerShell|   13|\n",
      "|2018|       Bash|   12|\n",
      "|2019|     Python|  162|\n",
      "|2019| JavaScript|  131|\n",
      "|2019|       Java|   95|\n",
      "|2019|        PHP|   59|\n",
      "|2019|          R|   36|\n",
      "|2019|          C|   14|\n",
      "|2019|         Go|    9|\n",
      "|2019|       Dart|    9|\n",
      "|2019|     MATLAB|    9|\n",
      "|2019|       Ruby|    8|\n",
      "+----+-----------+-----+\n",
      "\n"
     ]
    }
   ],
   "source": [
    "top_languages.show(n=110)"
   ]
  },
  {
   "cell_type": "code",
   "execution_count": null,
   "id": "70320e80",
   "metadata": {},
   "outputs": [],
   "source": []
  },
  {
   "cell_type": "code",
   "execution_count": 21,
   "id": "5c6999f2",
   "metadata": {},
   "outputs": [],
   "source": [
    "# temp = year_lang_count_rdd\\\n",
    "# .keyBy(lambda row: row[0])\\\n",
    "# .groupByKey()\\\n",
    "# .mapValues(lambda one_year_table: sc.parallelize(one_year_table).top(10, key=lambda row: row[2]))\n",
    "\n",
    "# Something like this is prohibited. We are not allowed to ude SparkContext like this.\n",
    "# The error says:\n",
    "# \"It appears that you are attempting to reference SparkContext from a broadcast \" Exception: It appears that you are attempting to reference SparkContext from a broadcast variable, action, or transformation. SparkContext can only be used on the driver, not in code that it run on workers. For more information, see SPARK-5063."
   ]
  },
  {
   "cell_type": "code",
   "execution_count": null,
   "id": "e9df0fb1",
   "metadata": {},
   "outputs": [],
   "source": []
  },
  {
   "cell_type": "code",
   "execution_count": 22,
   "id": "bf6ec4b9",
   "metadata": {},
   "outputs": [],
   "source": [
    "# Task solution wothout a requirement of selection of top-10\n",
    "\n",
    "# sorted_languages = posts_df.rdd\\\n",
    "#     .filter(lambda row: row._Tags is not None)\\\n",
    "#     .map(get_id_lang_year_by_row)\\\n",
    "#     .filter(lambda row: row is not None)\\\n",
    "#     .keyBy(lambda row: (row[2], row[1]))\\\n",
    "#     .aggregateByKey( \n",
    "#         0,\n",
    "#         lambda acc, value: acc + 1,\n",
    "#         lambda acc1, acc2: acc1 + acc2,\n",
    "#     )\\\n",
    "#     .map(lambda x: (x[0][0], x[0][1], x[1]))\\\n",
    "#     .sortBy(lambda row: (row[0], row[2]), ascending=False)\\\n",
    "#     .toDF()\n",
    "\n",
    "# sorted_languages.collect()"
   ]
  },
  {
   "cell_type": "markdown",
   "id": "c7bb27b6",
   "metadata": {},
   "source": [
    "# Rename cols and save DataFrame to .parquet"
   ]
  },
  {
   "cell_type": "code",
   "execution_count": 23,
   "id": "f5414680",
   "metadata": {},
   "outputs": [
    {
     "name": "stdout",
     "output_type": "stream",
     "text": [
      "Found 4 items\r\n",
      "drwxr-xr-x   - root root          4 2021-12-14 18:01 MegaBestLanguages.parquet\r\n",
      "drwxr-xr-x   - root root          1 2021-12-14 18:23 rail\r\n",
      "drwxr-xr-x   - root root          0 2021-12-14 18:06 spark-warehouse\r\n",
      "drwxr-xr-x   - root root          3 2021-12-23 18:32 top_languages.parquet\r\n"
     ]
    }
   ],
   "source": [
    "!hadoop fs -ls"
   ]
  },
  {
   "cell_type": "code",
   "execution_count": 24,
   "id": "e454ea43",
   "metadata": {},
   "outputs": [
    {
     "name": "stdout",
     "output_type": "stream",
     "text": [
      "Deleted top_languages.parquet\r\n"
     ]
    }
   ],
   "source": [
    "!hadoop fs -rm -R top_languages.parquet"
   ]
  },
  {
   "cell_type": "code",
   "execution_count": 25,
   "id": "c6815ebe",
   "metadata": {},
   "outputs": [],
   "source": [
    "top_languages.write.parquet(\"top_languages.parquet\")"
   ]
  },
  {
   "cell_type": "code",
   "execution_count": 26,
   "id": "43b72cff",
   "metadata": {},
   "outputs": [
    {
     "name": "stdout",
     "output_type": "stream",
     "text": [
      "Found 3 items\r\n",
      "-rwxr-xr-x   3 root root          0 2021-12-23 18:36 top_languages.parquet/_SUCCESS\r\n",
      "-rwxr-xr-x   3 root root       1318 2021-12-23 18:36 top_languages.parquet/part-00000-1563ba61-c6e4-4dbf-8455-2cd97c78b8ec-c000.snappy.parquet\r\n",
      "-rwxr-xr-x   3 root root       1343 2021-12-23 18:36 top_languages.parquet/part-00001-1563ba61-c6e4-4dbf-8455-2cd97c78b8ec-c000.snappy.parquet\r\n"
     ]
    }
   ],
   "source": [
    "!hadoop fs -ls top_languages.parquet"
   ]
  },
  {
   "cell_type": "code",
   "execution_count": null,
   "id": "f15bd46b",
   "metadata": {},
   "outputs": [],
   "source": []
  }
 ],
 "metadata": {
  "kernelspec": {
   "display_name": "Python 3",
   "language": "python",
   "name": "python3"
  },
  "language_info": {
   "codemirror_mode": {
    "name": "ipython",
    "version": 3
   },
   "file_extension": ".py",
   "mimetype": "text/x-python",
   "name": "python",
   "nbconvert_exporter": "python",
   "pygments_lexer": "ipython3",
   "version": "3.6.9"
  }
 },
 "nbformat": 4,
 "nbformat_minor": 5
}

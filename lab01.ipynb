{
 "cells": [
  {
   "cell_type": "markdown",
   "id": "aa8eb641",
   "metadata": {},
   "source": [
    "# Initializing and getting session"
   ]
  },
  {
   "cell_type": "code",
   "execution_count": 1,
   "id": "ba18573a",
   "metadata": {},
   "outputs": [],
   "source": [
    "import findspark\n",
    "findspark.init()"
   ]
  },
  {
   "cell_type": "code",
   "execution_count": 2,
   "id": "d43b34bf",
   "metadata": {},
   "outputs": [],
   "source": [
    "from pyspark import SparkContext, SparkConf"
   ]
  },
  {
   "cell_type": "code",
   "execution_count": 3,
   "id": "57d955a8",
   "metadata": {},
   "outputs": [],
   "source": [
    "from pyspark.sql.functions import col\n",
    "from pyspark.sql.types import StructType, StructField, StringType, DateType"
   ]
  },
  {
   "cell_type": "code",
   "execution_count": 4,
   "id": "fa78676d",
   "metadata": {},
   "outputs": [],
   "source": [
    "from pyspark.sql import SparkSession\n",
    "import os\n",
    "\n",
    "os.environ['PYSPARK_SUBMIT_ARGS'] = '--packages com.databricks:spark-xml_2.12:0.13.0 pyspark-shell'\n",
    "\n",
    "spark_session = SparkSession\\\n",
    "    .builder\\\n",
    "    .getOrCreate()"
   ]
  },
  {
   "cell_type": "code",
   "execution_count": 5,
   "id": "ad9caa69",
   "metadata": {},
   "outputs": [
    {
     "data": {
      "text/html": [
       "\n",
       "            <div>\n",
       "                <p><b>SparkSession - in-memory</b></p>\n",
       "                \n",
       "        <div>\n",
       "            <p><b>SparkContext</b></p>\n",
       "\n",
       "            <p><a href=\"http://maprdemo.mapr.io:4042\">Spark UI</a></p>\n",
       "\n",
       "            <dl>\n",
       "              <dt>Version</dt>\n",
       "                <dd><code>v2.4.5.0-mapr-700</code></dd>\n",
       "              <dt>Master</dt>\n",
       "                <dd><code>local[*]</code></dd>\n",
       "              <dt>AppName</dt>\n",
       "                <dd><code>pyspark-shell</code></dd>\n",
       "            </dl>\n",
       "        </div>\n",
       "        \n",
       "            </div>\n",
       "        "
      ],
      "text/plain": [
       "<pyspark.sql.session.SparkSession at 0x7f7992ed0128>"
      ]
     },
     "execution_count": 5,
     "metadata": {},
     "output_type": "execute_result"
    }
   ],
   "source": [
    "spark_session"
   ]
  },
  {
   "cell_type": "code",
   "execution_count": 6,
   "id": "0923183d",
   "metadata": {},
   "outputs": [],
   "source": [
    "sc = spark_session._sc"
   ]
  },
  {
   "cell_type": "code",
   "execution_count": 7,
   "id": "e9da4621",
   "metadata": {},
   "outputs": [
    {
     "name": "stdout",
     "output_type": "stream",
     "text": [
      "Found 8 items\r\n",
      "drwxr-xr-x   - root root         30 2021-12-17 12:55 /Leon_Result\r\n",
      "-rwxr-xr-x   3 root root       3841 2021-12-14 09:31 /Untitled.ipynb\r\n",
      "drwxr-xr-x   - mapr mapr          5 2021-12-14 08:03 /apps\r\n",
      "drwxr-xr-x   - mapr mapr          0 2021-12-14 08:06 /opt\r\n",
      "-rwxr-xr-x   3 root root         24 2021-12-14 10:51 /test.txt\r\n",
      "drwxrwxrwx   - mapr mapr          0 2021-12-14 07:54 /tmp\r\n",
      "drwxr-xr-x   - mapr mapr          2 2021-12-14 18:01 /user\r\n",
      "drwxr-xr-x   - mapr mapr          1 2021-12-14 07:58 /var\r\n"
     ]
    }
   ],
   "source": [
    "!hadoop fs -ls /"
   ]
  },
  {
   "cell_type": "code",
   "execution_count": 8,
   "id": "df90cc98",
   "metadata": {},
   "outputs": [],
   "source": [
    "from datetime import datetime\n",
    "from glob import glob\n",
    "from itertools import islice\n",
    "\n",
    "import time\n",
    "import timeit\n",
    "import os"
   ]
  },
  {
   "cell_type": "markdown",
   "id": "ff7e5968",
   "metadata": {},
   "source": [
    "# _War and Peace_"
   ]
  },
  {
   "cell_type": "code",
   "execution_count": 9,
   "id": "4fd0e308",
   "metadata": {},
   "outputs": [],
   "source": [
    "warandpeace = sc.textFile(\"file:///home/workspace/data/warandsociety.txt\")"
   ]
  },
  {
   "cell_type": "code",
   "execution_count": 10,
   "id": "76892ad3",
   "metadata": {},
   "outputs": [
    {
     "data": {
      "text/plain": [
       "12851"
      ]
     },
     "execution_count": 10,
     "metadata": {},
     "output_type": "execute_result"
    }
   ],
   "source": [
    "warandpeace.count()"
   ]
  },
  {
   "cell_type": "code",
   "execution_count": 11,
   "id": "a237148e",
   "metadata": {},
   "outputs": [
    {
     "name": "stdout",
     "output_type": "stream",
     "text": [
      "An error occurred while calling z:org.apache.spark.api.python.PythonRDD.collectAndServe.\n",
      ": org.apache.hadoop.mapred.InvalidInputException: Input path does not exist: file:/home/workspace/data/nil\n",
      "\tat org.apache.hadoop.mapred.FileInputFormat.singleThreadedListStatus(FileInputFormat.java:289)\n",
      "\tat org.apache.hadoop.mapred.FileInputFormat.listStatus(FileInputFormat.java:229)\n",
      "\tat org.apache.hadoop.mapred.FileInputFormat.getSplits(FileInputFormat.java:317)\n",
      "\tat org.apache.spark.rdd.HadoopRDD.getPartitions(HadoopRDD.scala:208)\n",
      "\tat org.apache.spark.rdd.RDD.$anonfun$partitions$2(RDD.scala:273)\n",
      "\tat scala.Option.getOrElse(Option.scala:189)\n",
      "\tat org.apache.spark.rdd.RDD.partitions(RDD.scala:269)\n",
      "\tat org.apache.spark.rdd.MapPartitionsRDD.getPartitions(MapPartitionsRDD.scala:49)\n",
      "\tat org.apache.spark.rdd.RDD.$anonfun$partitions$2(RDD.scala:273)\n",
      "\tat scala.Option.getOrElse(Option.scala:189)\n",
      "\tat org.apache.spark.rdd.RDD.partitions(RDD.scala:269)\n",
      "\tat org.apache.spark.api.python.PythonRDD.getPartitions(PythonRDD.scala:55)\n",
      "\tat org.apache.spark.rdd.RDD.$anonfun$partitions$2(RDD.scala:273)\n",
      "\tat scala.Option.getOrElse(Option.scala:189)\n",
      "\tat org.apache.spark.rdd.RDD.partitions(RDD.scala:269)\n",
      "\tat org.apache.spark.SparkContext.runJob(SparkContext.scala:2143)\n",
      "\tat org.apache.spark.rdd.RDD.$anonfun$collect$1(RDD.scala:990)\n",
      "\tat org.apache.spark.rdd.RDDOperationScope$.withScope(RDDOperationScope.scala:151)\n",
      "\tat org.apache.spark.rdd.RDDOperationScope$.withScope(RDDOperationScope.scala:112)\n",
      "\tat org.apache.spark.rdd.RDD.withScope(RDD.scala:385)\n",
      "\tat org.apache.spark.rdd.RDD.collect(RDD.scala:989)\n",
      "\tat org.apache.spark.api.python.PythonRDD$.collectAndServe(PythonRDD.scala:166)\n",
      "\tat org.apache.spark.api.python.PythonRDD.collectAndServe(PythonRDD.scala)\n",
      "\tat java.base/jdk.internal.reflect.NativeMethodAccessorImpl.invoke0(Native Method)\n",
      "\tat java.base/jdk.internal.reflect.NativeMethodAccessorImpl.invoke(NativeMethodAccessorImpl.java:62)\n",
      "\tat java.base/jdk.internal.reflect.DelegatingMethodAccessorImpl.invoke(DelegatingMethodAccessorImpl.java:43)\n",
      "\tat java.base/java.lang.reflect.Method.invoke(Method.java:566)\n",
      "\tat py4j.reflection.MethodInvoker.invoke(MethodInvoker.java:244)\n",
      "\tat py4j.reflection.ReflectionEngine.invoke(ReflectionEngine.java:357)\n",
      "\tat py4j.Gateway.invoke(Gateway.java:282)\n",
      "\tat py4j.commands.AbstractCommand.invokeMethod(AbstractCommand.java:132)\n",
      "\tat py4j.commands.CallCommand.execute(CallCommand.java:79)\n",
      "\tat py4j.GatewayConnection.run(GatewayConnection.java:238)\n",
      "\tat java.base/java.lang.Thread.run(Thread.java:834)\n",
      "\n"
     ]
    }
   ],
   "source": [
    "try:\n",
    "    nilFile = sc.textFile(\"file:///home/workspace/data/nil\")\n",
    "    nilFile.count()\n",
    "except Exception as e:\n",
    "    print(e)"
   ]
  },
  {
   "cell_type": "code",
   "execution_count": 12,
   "id": "aedb7e20",
   "metadata": {},
   "outputs": [
    {
     "data": {
      "text/plain": [
       "['Лев Николаевич Толстой',\n",
       " 'Война и мир. Книга 1',\n",
       " '',\n",
       " 'Война и мир – 1',\n",
       " '',\n",
       " ' ',\n",
       " ' http://www.lib.ru',\n",
       " '',\n",
       " 'Аннотация ',\n",
       " '']"
      ]
     },
     "execution_count": 12,
     "metadata": {},
     "output_type": "execute_result"
    }
   ],
   "source": [
    "warandpeace.take(10)"
   ]
  },
  {
   "cell_type": "code",
   "execution_count": 13,
   "id": "26855062",
   "metadata": {},
   "outputs": [
    {
     "data": {
      "text/plain": [
       "2"
      ]
     },
     "execution_count": 13,
     "metadata": {},
     "output_type": "execute_result"
    }
   ],
   "source": [
    "warandpeace.getNumPartitions()"
   ]
  },
  {
   "cell_type": "code",
   "execution_count": 14,
   "id": "636064c1",
   "metadata": {},
   "outputs": [],
   "source": [
    "lines_with_war = warandpeace.filter(lambda x: \"война\" in x)"
   ]
  },
  {
   "cell_type": "code",
   "execution_count": 15,
   "id": "7758a197",
   "metadata": {},
   "outputs": [
    {
     "data": {
      "text/plain": [
       "\"– Еh bien, mon prince. Genes et Lucques ne sont plus que des apanages, des поместья, de la famille Buonaparte. Non, je vous previens, que si vous ne me dites pas, que nous avons la guerre, si vous vous permettez encore de pallier toutes les infamies, toutes les atrocites de cet Antichrist (ma parole, j'y crois) – je ne vous connais plus, vous n'etes plus mon ami, vous n'etes plus мой верный раб, comme vous dites. [Ну, что, князь, Генуа и Лукка стали не больше, как поместьями фамилии Бонапарте. Нет, я вас предупреждаю, если вы мне не скажете, что у нас война, если вы еще позволите себе защищать все гадости, все ужасы этого Антихриста (право, я верю, что он Антихрист) – я вас больше не знаю, вы уж не друг мой, вы уж не мой верный раб, как вы говорите.] Ну, здравствуйте, здравствуйте. Je vois que je vous fais peur, [Я вижу, что я вас пугаю,] садитесь и рассказывайте.\""
      ]
     },
     "execution_count": 15,
     "metadata": {},
     "output_type": "execute_result"
    }
   ],
   "source": [
    "lines_with_war.first()"
   ]
  },
  {
   "cell_type": "code",
   "execution_count": 16,
   "id": "102981ee",
   "metadata": {},
   "outputs": [
    {
     "data": {
      "text/plain": [
       "PythonRDD[8] at RDD at PythonRDD.scala:53"
      ]
     },
     "execution_count": 16,
     "metadata": {},
     "output_type": "execute_result"
    }
   ],
   "source": [
    "lines_with_war.cache()"
   ]
  },
  {
   "cell_type": "code",
   "execution_count": 17,
   "id": "889bb52a",
   "metadata": {},
   "outputs": [
    {
     "name": "stdout",
     "output_type": "stream",
     "text": [
      "CPU times: user 14.7 ms, sys: 575 µs, total: 15.3 ms\n",
      "Wall time: 1.63 s\n"
     ]
    },
    {
     "data": {
      "text/plain": [
       "54"
      ]
     },
     "execution_count": 17,
     "metadata": {},
     "output_type": "execute_result"
    }
   ],
   "source": [
    "%%time\n",
    "lines_with_war.count()"
   ]
  },
  {
   "cell_type": "code",
   "execution_count": 18,
   "id": "9ddbf502",
   "metadata": {},
   "outputs": [
    {
     "name": "stdout",
     "output_type": "stream",
     "text": [
      "CPU times: user 14.9 ms, sys: 588 µs, total: 15.5 ms\n",
      "Wall time: 177 ms\n"
     ]
    },
    {
     "data": {
      "text/plain": [
       "54"
      ]
     },
     "execution_count": 18,
     "metadata": {},
     "output_type": "execute_result"
    }
   ],
   "source": [
    "%%time\n",
    "lines_with_war.count()"
   ]
  },
  {
   "cell_type": "code",
   "execution_count": 19,
   "id": "9640e4db",
   "metadata": {},
   "outputs": [],
   "source": [
    "word_сounts = lines_with_war\\\n",
    "            .flatMap(lambda line: line.split(\" \"))\\\n",
    "            .map(lambda word: (word, 1))\\\n",
    "            .reduceByKey(lambda a, b: a + b)\n"
   ]
  },
  {
   "cell_type": "code",
   "execution_count": 20,
   "id": "a890f95a",
   "metadata": {},
   "outputs": [],
   "source": [
    "# word_сounts.saveAsTextFile('warandpeace_histogram.txt')\n",
    "# !hadoop fs -cat warandpeace_histogram.txt/*\n",
    "\n",
    "# encoding is trashed ('cat' is stupid)"
   ]
  },
  {
   "cell_type": "code",
   "execution_count": 21,
   "id": "8994135e",
   "metadata": {},
   "outputs": [],
   "source": [
    "for file in glob('/home/workspace/data/warandpeace_histogram.txt/*'):\n",
    "    os.remove(file)\n",
    "\n",
    "!rm -rf /home/workspace/data/warandpeace_histogram.txt\n",
    "\n",
    "word_сounts.saveAsTextFile('file:///home/workspace/data/warandpeace_histogram.txt')"
   ]
  },
  {
   "cell_type": "code",
   "execution_count": 22,
   "id": "b8c418ba",
   "metadata": {},
   "outputs": [
    {
     "name": "stdout",
     "output_type": "stream",
     "text": [
      "('Еh', 1)\n",
      " ('mon', 6)\n",
      " ('prince.', 1)\n",
      " ('sont', 1)\n",
      " ('que', 9)\n",
      " ('des', 2)\n",
      " ('поместья,', 1)\n",
      " ('Buonaparte.', 1)\n",
      " ('Non,', 2)\n",
      " ('previens,', 1)\n",
      "\n"
     ]
    }
   ],
   "source": [
    "lines = []\n",
    "for file in glob('/home/workspace/data/warandpeace_histogram.txt/*'):\n",
    "    with open(file, 'r', encoding=\"utf-8\") as f:\n",
    "        lines.extend(f.readlines())\n",
    "print(*lines[:10])"
   ]
  },
  {
   "cell_type": "markdown",
   "id": "7eff0da5",
   "metadata": {},
   "source": [
    "# Set operations"
   ]
  },
  {
   "cell_type": "code",
   "execution_count": 23,
   "id": "8e7271fc",
   "metadata": {},
   "outputs": [],
   "source": [
    "a = sc.parallelize([1,2,3,4])\n",
    "b = sc.parallelize([3,4,6,7])\n"
   ]
  },
  {
   "cell_type": "code",
   "execution_count": 24,
   "id": "96c3c8c1",
   "metadata": {},
   "outputs": [
    {
     "data": {
      "text/plain": [
       "[1, 2, 3, 4, 3, 4, 6, 7]"
      ]
     },
     "execution_count": 24,
     "metadata": {},
     "output_type": "execute_result"
    }
   ],
   "source": [
    "a.union(b).collect()"
   ]
  },
  {
   "cell_type": "code",
   "execution_count": 25,
   "id": "e50f33a7",
   "metadata": {},
   "outputs": [
    {
     "data": {
      "text/plain": [
       "[4, 1, 2, 6, 3, 7]"
      ]
     },
     "execution_count": 25,
     "metadata": {},
     "output_type": "execute_result"
    }
   ],
   "source": [
    "a.union(b).distinct().collect()\n"
   ]
  },
  {
   "cell_type": "code",
   "execution_count": 26,
   "id": "c1a4bf74",
   "metadata": {},
   "outputs": [
    {
     "data": {
      "text/plain": [
       "[4, 3]"
      ]
     },
     "execution_count": 26,
     "metadata": {},
     "output_type": "execute_result"
    }
   ],
   "source": [
    "a.intersection(b).collect()"
   ]
  },
  {
   "cell_type": "code",
   "execution_count": 27,
   "id": "36d5ac97",
   "metadata": {},
   "outputs": [
    {
     "data": {
      "text/plain": [
       "[1, 2]"
      ]
     },
     "execution_count": 27,
     "metadata": {},
     "output_type": "execute_result"
    }
   ],
   "source": [
    "a.subtract(b).collect()\n"
   ]
  },
  {
   "cell_type": "markdown",
   "id": "aec528df",
   "metadata": {},
   "source": [
    "# Shared variables"
   ]
  },
  {
   "cell_type": "markdown",
   "id": "cb93c526",
   "metadata": {},
   "source": [
    "## Broadcast vars"
   ]
  },
  {
   "cell_type": "code",
   "execution_count": 28,
   "id": "4db63fa9",
   "metadata": {},
   "outputs": [],
   "source": [
    "broadcast_var = sc.broadcast([1, 2, 3])\n"
   ]
  },
  {
   "cell_type": "code",
   "execution_count": 29,
   "id": "33799feb",
   "metadata": {},
   "outputs": [
    {
     "data": {
      "text/plain": [
       "[1, 2, 3]"
      ]
     },
     "execution_count": 29,
     "metadata": {},
     "output_type": "execute_result"
    }
   ],
   "source": [
    "broadcast_var.value"
   ]
  },
  {
   "cell_type": "markdown",
   "id": "d85fe7c8",
   "metadata": {},
   "source": [
    "## Accumulator vars"
   ]
  },
  {
   "cell_type": "code",
   "execution_count": 30,
   "id": "ee9dbad7",
   "metadata": {},
   "outputs": [],
   "source": [
    "accum = sc.accumulator(0)"
   ]
  },
  {
   "cell_type": "code",
   "execution_count": 31,
   "id": "4bf1043f",
   "metadata": {},
   "outputs": [],
   "source": [
    "sc.parallelize([1,2,3,4]).foreach(lambda x: accum.add(x))"
   ]
  },
  {
   "cell_type": "code",
   "execution_count": 32,
   "id": "c291502a",
   "metadata": {},
   "outputs": [
    {
     "data": {
      "text/plain": [
       "10"
      ]
     },
     "execution_count": 32,
     "metadata": {},
     "output_type": "execute_result"
    }
   ],
   "source": [
    "accum.value"
   ]
  },
  {
   "cell_type": "code",
   "execution_count": 33,
   "id": "844c767a",
   "metadata": {},
   "outputs": [],
   "source": [
    "pair = ('a', 'b')"
   ]
  },
  {
   "cell_type": "markdown",
   "id": "5e255daf",
   "metadata": {},
   "source": [
    "# Top 10 taxi numbers"
   ]
  },
  {
   "cell_type": "code",
   "execution_count": 34,
   "id": "fd9f6dec",
   "metadata": {},
   "outputs": [],
   "source": [
    "taxi_ = sc.textFile(\"file:///home/workspace/data/nyctaxi.csv\")"
   ]
  },
  {
   "cell_type": "code",
   "execution_count": 35,
   "id": "27accda9",
   "metadata": {},
   "outputs": [
    {
     "data": {
      "text/plain": [
       "['\"_id\",\"_rev\",\"dropoff_datetime\",\"dropoff_latitude\",\"dropoff_longitude\",\"hack_license\",\"medallion\",\"passenger_count\",\"pickup_datetime\",\"pickup_latitude\",\"pickup_longitude\",\"rate_code\",\"store_and_fwd_flag\",\"trip_distance\",\"trip_time_in_secs\",\"vendor_id\"',\n",
       " '\"29b3f4a30dea6688d4c289c9672cb996\",\"1-ddfdec8050c7ef4dc694eeeda6c4625e\",\"2013-01-11 22:03:00\",+4.07033460000000E+001,-7.40144200000000E+001,\"A93D1F7F8998FFB75EEF477EB6077516\",\"68BC16A99E915E44ADA7E639B4DD5F59\",2,\"2013-01-11 21:48:00\",+4.06760670000000E+001,-7.39810790000000E+001,1,,+4.08000000000000E+000,900,\"VTS\"',\n",
       " '\"2a80cfaa425dcec0861e02ae44354500\",\"1-b72234b58a7b0018a1ec5d2ea0797e32\",\"2013-01-11 04:28:00\",+4.08190960000000E+001,-7.39467470000000E+001,\"64CE1B03FDE343BB8DFB512123A525A4\",\"60150AA39B2F654ED6F0C3AF8174A48A\",1,\"2013-01-11 04:07:00\",+4.07280540000000E+001,-7.40020370000000E+001,1,,+8.53000000000000E+000,1260,\"VTS\"',\n",
       " '\"29b3f4a30dea6688d4c289c96758d87e\",\"1-387ec30eac5abda89d2abefdf947b2c1\",\"2013-01-11 22:02:00\",+4.07277180000000E+001,-7.39942860000000E+001,\"2D73B0C44F1699C67AB8AE322433BDB7\",\"6F907BC9A85B7034C8418A24A0A75489\",5,\"2013-01-11 21:46:00\",+4.07577480000000E+001,-7.39649810000000E+001,1,,+3.01000000000000E+000,960,\"VTS\"',\n",
       " '\"2a80cfaa425dcec0861e02ae446226e4\",\"1-aa8b16d6ae44ad906a46cc6581ffea50\",\"2013-01-11 10:03:00\",+4.07643050000000E+001,-7.39544600000000E+001,\"E90018250F0A009433F03BD1E4A4CE53\",\"1AFFD48CC07161DA651625B562FE4D06\",5,\"2013-01-11 09:44:00\",+4.07308080000000E+001,-7.39928280000000E+001,1,,+3.64000000000000E+000,1140,\"VTS\"']"
      ]
     },
     "execution_count": 35,
     "metadata": {},
     "output_type": "execute_result"
    }
   ],
   "source": [
    "taxi_.take(5)"
   ]
  },
  {
   "cell_type": "code",
   "execution_count": 36,
   "id": "b1186265",
   "metadata": {},
   "outputs": [],
   "source": [
    "taxi = taxi_.mapPartitionsWithIndex(lambda idx, it: islice(it, 1, None) if idx == 0 else it)"
   ]
  },
  {
   "cell_type": "code",
   "execution_count": 37,
   "id": "c0ed9238",
   "metadata": {},
   "outputs": [
    {
     "data": {
      "text/plain": [
       "['\"29b3f4a30dea6688d4c289c9672cb996\",\"1-ddfdec8050c7ef4dc694eeeda6c4625e\",\"2013-01-11 22:03:00\",+4.07033460000000E+001,-7.40144200000000E+001,\"A93D1F7F8998FFB75EEF477EB6077516\",\"68BC16A99E915E44ADA7E639B4DD5F59\",2,\"2013-01-11 21:48:00\",+4.06760670000000E+001,-7.39810790000000E+001,1,,+4.08000000000000E+000,900,\"VTS\"',\n",
       " '\"2a80cfaa425dcec0861e02ae44354500\",\"1-b72234b58a7b0018a1ec5d2ea0797e32\",\"2013-01-11 04:28:00\",+4.08190960000000E+001,-7.39467470000000E+001,\"64CE1B03FDE343BB8DFB512123A525A4\",\"60150AA39B2F654ED6F0C3AF8174A48A\",1,\"2013-01-11 04:07:00\",+4.07280540000000E+001,-7.40020370000000E+001,1,,+8.53000000000000E+000,1260,\"VTS\"',\n",
       " '\"29b3f4a30dea6688d4c289c96758d87e\",\"1-387ec30eac5abda89d2abefdf947b2c1\",\"2013-01-11 22:02:00\",+4.07277180000000E+001,-7.39942860000000E+001,\"2D73B0C44F1699C67AB8AE322433BDB7\",\"6F907BC9A85B7034C8418A24A0A75489\",5,\"2013-01-11 21:46:00\",+4.07577480000000E+001,-7.39649810000000E+001,1,,+3.01000000000000E+000,960,\"VTS\"']"
      ]
     },
     "execution_count": 37,
     "metadata": {},
     "output_type": "execute_result"
    }
   ],
   "source": [
    "taxi.take(3)"
   ]
  },
  {
   "cell_type": "code",
   "execution_count": 38,
   "id": "b2dc53d3",
   "metadata": {},
   "outputs": [],
   "source": [
    "taxi_parse = taxi.map(lambda line: line.split(','))"
   ]
  },
  {
   "cell_type": "code",
   "execution_count": 39,
   "id": "f8e4a2e9",
   "metadata": {},
   "outputs": [],
   "source": [
    "taxi_med_key = taxi_parse.map(lambda row: (row[6], 1))"
   ]
  },
  {
   "cell_type": "code",
   "execution_count": 40,
   "id": "517d50a2",
   "metadata": {},
   "outputs": [],
   "source": [
    "taxi_med_counts = taxi_med_key.reduceByKey(lambda a, b: a + b)"
   ]
  },
  {
   "cell_type": "code",
   "execution_count": 41,
   "id": "97b89bbb",
   "metadata": {},
   "outputs": [
    {
     "data": {
      "text/plain": [
       "[(44, '\"AB44AD9A03B7CFAF3925103BDCC0AF23\"'),\n",
       " (41, '\"71CACFBADF9568AAE88A843DB511D172\"'),\n",
       " (41, '\"6483B9BFCB216EC88986EA3AB13064E7\"'),\n",
       " (41, '\"4C73459B430339981D78795300433438\"'),\n",
       " (40, '\"67E71D24AF704D814A0A825005ADA72E\"'),\n",
       " (40, '\"02E5A4136FD0A775A023A005A4EABC62\"'),\n",
       " (39, '\"9DFBCD218E7116F34C044F0680A0FB8A\"'),\n",
       " (39, '\"8DEB70907D00AA1D7FF5E2683240549B\"'),\n",
       " (39, '\"7989C2AB3F345F4AB54D3CF1E0480D67\"'),\n",
       " (39, '\"6C9F67DF658DC5636F9E7752F203F70A\"')]"
      ]
     },
     "execution_count": 41,
     "metadata": {},
     "output_type": "execute_result"
    }
   ],
   "source": [
    "taxi_med_counts.map(lambda a: a[::-1]).top(10)"
   ]
  },
  {
   "cell_type": "code",
   "execution_count": 42,
   "id": "29921a43",
   "metadata": {},
   "outputs": [],
   "source": [
    "taxiCounts = taxi.map(lambda line: line.split(',')).map(lambda row: (row[6], 1)).reduceByKey(lambda a, b: a + b)"
   ]
  },
  {
   "cell_type": "code",
   "execution_count": 43,
   "id": "d1f688b9",
   "metadata": {},
   "outputs": [
    {
     "data": {
      "text/plain": [
       "PythonRDD[58] at RDD at PythonRDD.scala:53"
      ]
     },
     "execution_count": 43,
     "metadata": {},
     "output_type": "execute_result"
    }
   ],
   "source": [
    "taxiCounts.cache()"
   ]
  },
  {
   "cell_type": "code",
   "execution_count": 44,
   "id": "166ab155",
   "metadata": {},
   "outputs": [
    {
     "name": "stdout",
     "output_type": "stream",
     "text": [
      "CPU times: user 13.5 ms, sys: 0 ns, total: 13.5 ms\n",
      "Wall time: 1.82 s\n"
     ]
    },
    {
     "data": {
      "text/plain": [
       "13370"
      ]
     },
     "execution_count": 44,
     "metadata": {},
     "output_type": "execute_result"
    }
   ],
   "source": [
    "%%time\n",
    "taxiCounts.count()"
   ]
  },
  {
   "cell_type": "code",
   "execution_count": 45,
   "id": "27ec910b",
   "metadata": {},
   "outputs": [
    {
     "name": "stdout",
     "output_type": "stream",
     "text": [
      "CPU times: user 14.3 ms, sys: 0 ns, total: 14.3 ms\n",
      "Wall time: 111 ms\n"
     ]
    },
    {
     "data": {
      "text/plain": [
       "13370"
      ]
     },
     "execution_count": 45,
     "metadata": {},
     "output_type": "execute_result"
    }
   ],
   "source": [
    "%%time\n",
    "taxiCounts.count()"
   ]
  },
  {
   "cell_type": "markdown",
   "id": "7cba2dd0",
   "metadata": {},
   "source": [
    "# Storage levels"
   ]
  },
  {
   "cell_type": "code",
   "execution_count": 46,
   "id": "da4d7ad4",
   "metadata": {},
   "outputs": [],
   "source": [
    "# import pyspark\n",
    "# taxi.persist(storageLevel=pyspark.StorageLevel.MEMORY_ONLY)\n"
   ]
  },
  {
   "cell_type": "markdown",
   "id": "c74f6290",
   "metadata": {},
   "source": [
    "# --------------------------------------------------------------------------------------------------"
   ]
  },
  {
   "cell_type": "markdown",
   "id": "3196da00",
   "metadata": {},
   "source": [
    "# Lab 1 TASKS"
   ]
  },
  {
   "cell_type": "raw",
   "id": "360c696a",
   "metadata": {},
   "source": [
    "Решите следующие задачи для данных велопарковок Сан-Франциско (trips.csv, stations.csv):\n",
    "\n",
    "1. Найти велосипед с максимальным временем пробега.\n",
    "2. Найти наибольшее геодезическое расстояние между станциями.\n",
    "3. Найти путь велосипеда с максимальным временем пробега через станции.\n",
    "4. Найти количество велосипедов в системе.\n",
    "5. Найти пользователей потративших на поездки более 3 часов."
   ]
  },
  {
   "cell_type": "code",
   "execution_count": 47,
   "id": "2c9e5bf4",
   "metadata": {},
   "outputs": [],
   "source": [
    "trips_data = sc.textFile('file:///home/workspace/data/trips.csv')\n",
    "stations_data = sc.textFile('file:///home/workspace/data/stations.csv')"
   ]
  },
  {
   "cell_type": "markdown",
   "id": "dbe6b6cd",
   "metadata": {},
   "source": [
    "Let's see the headers"
   ]
  },
  {
   "cell_type": "code",
   "execution_count": 48,
   "id": "e1c74ddd",
   "metadata": {},
   "outputs": [
    {
     "data": {
      "text/plain": [
       "'id,duration,start_date,start_station_name,start_station_id,end_date,end_station_name,end_station_id,bike_id,subscription_type,zip_code'"
      ]
     },
     "execution_count": 48,
     "metadata": {},
     "output_type": "execute_result"
    }
   ],
   "source": [
    "trips_header = trips_data.first()\n",
    "trips_header"
   ]
  },
  {
   "cell_type": "code",
   "execution_count": 49,
   "id": "5d5b2dd6",
   "metadata": {},
   "outputs": [
    {
     "data": {
      "text/plain": [
       "'id,name,lat,long,dock_count,city,installation_date'"
      ]
     },
     "execution_count": 49,
     "metadata": {},
     "output_type": "execute_result"
    }
   ],
   "source": [
    "stations_header = stations_data.first()\n",
    "stations_header"
   ]
  },
  {
   "cell_type": "markdown",
   "id": "8a00c3cd",
   "metadata": {},
   "source": [
    "Cut off the headers and split the rows"
   ]
  },
  {
   "cell_type": "code",
   "execution_count": 50,
   "id": "6feb193d",
   "metadata": {},
   "outputs": [
    {
     "data": {
      "text/plain": [
       "[['4576',\n",
       "  '63',\n",
       "  '',\n",
       "  'South Van Ness at Market',\n",
       "  '66',\n",
       "  '8/29/2013 14:14',\n",
       "  'South Van Ness at Market',\n",
       "  '66',\n",
       "  '520',\n",
       "  'Subscriber',\n",
       "  '94127'],\n",
       " ['4607',\n",
       "  '',\n",
       "  '8/29/2013 14:42',\n",
       "  'San Jose City Hall',\n",
       "  '10',\n",
       "  '8/29/2013 14:43',\n",
       "  'San Jose City Hall',\n",
       "  '10',\n",
       "  '661',\n",
       "  'Subscriber',\n",
       "  '95138'],\n",
       " ['4130',\n",
       "  '71',\n",
       "  '8/29/2013 10:16',\n",
       "  'Mountain View City Hall',\n",
       "  '27',\n",
       "  '8/29/2013 10:17',\n",
       "  'Mountain View City Hall',\n",
       "  '27',\n",
       "  '48',\n",
       "  'Subscriber',\n",
       "  '97214']]"
      ]
     },
     "execution_count": 50,
     "metadata": {},
     "output_type": "execute_result"
    }
   ],
   "source": [
    "trips = trips_data\\\n",
    "        .mapPartitionsWithIndex(lambda idx, it: islice(it, 1, None) if idx == 0 else it)\\\n",
    "        .map(lambda row: row.split(\",\"))\n",
    "\n",
    "trips.take(3)"
   ]
  },
  {
   "cell_type": "code",
   "execution_count": 51,
   "id": "c2999648",
   "metadata": {},
   "outputs": [
    {
     "data": {
      "text/plain": [
       "[['2',\n",
       "  'San Jose Diridon Caltrain Station',\n",
       "  '37.329732',\n",
       "  '-121.90178200000001',\n",
       "  '27',\n",
       "  'San Jose',\n",
       "  '8/6/2013'],\n",
       " ['3',\n",
       "  'San Jose Civic Center',\n",
       "  '37.330698',\n",
       "  '-121.888979',\n",
       "  '15',\n",
       "  'San Jose',\n",
       "  '8/5/2013'],\n",
       " ['4',\n",
       "  'Santa Clara at Almaden',\n",
       "  '37.333988',\n",
       "  '-121.894902',\n",
       "  '11',\n",
       "  'San Jose',\n",
       "  '8/6/2013']]"
      ]
     },
     "execution_count": 51,
     "metadata": {},
     "output_type": "execute_result"
    }
   ],
   "source": [
    "stations = stations_data\\\n",
    "            .mapPartitionsWithIndex(lambda idx, it: islice(it, 1, None) if idx == 0 else it)\\\n",
    "            .map(lambda row: row.split(\",\"))\n",
    "\n",
    "stations.take(3)"
   ]
  },
  {
   "cell_type": "markdown",
   "id": "f1aff316",
   "metadata": {},
   "source": [
    "Keying stations by id"
   ]
  },
  {
   "cell_type": "code",
   "execution_count": 52,
   "id": "a9ea5b25",
   "metadata": {},
   "outputs": [
    {
     "data": {
      "text/plain": [
       "[(2,\n",
       "  ['2',\n",
       "   'San Jose Diridon Caltrain Station',\n",
       "   '37.329732',\n",
       "   '-121.90178200000001',\n",
       "   '27',\n",
       "   'San Jose',\n",
       "   '8/6/2013'])]"
      ]
     },
     "execution_count": 52,
     "metadata": {},
     "output_type": "execute_result"
    }
   ],
   "source": [
    "stations_indexed = stations.keyBy(lambda row: int(row[0]))\n",
    "stations_indexed.take(1)"
   ]
  },
  {
   "cell_type": "markdown",
   "id": "29087f80",
   "metadata": {},
   "source": [
    "Keying trips by station id (both by start station and by end station)"
   ]
  },
  {
   "cell_type": "code",
   "execution_count": 53,
   "id": "44b37fac",
   "metadata": {},
   "outputs": [
    {
     "data": {
      "text/plain": [
       "([('66',\n",
       "   ['4576',\n",
       "    '63',\n",
       "    '',\n",
       "    'South Van Ness at Market',\n",
       "    '66',\n",
       "    '8/29/2013 14:14',\n",
       "    'South Van Ness at Market',\n",
       "    '66',\n",
       "    '520',\n",
       "    'Subscriber',\n",
       "    '94127'])],\n",
       " [('66',\n",
       "   ['4576',\n",
       "    '63',\n",
       "    '',\n",
       "    'South Van Ness at Market',\n",
       "    '66',\n",
       "    '8/29/2013 14:14',\n",
       "    'South Van Ness at Market',\n",
       "    '66',\n",
       "    '520',\n",
       "    'Subscriber',\n",
       "    '94127'])])"
      ]
     },
     "execution_count": 53,
     "metadata": {},
     "output_type": "execute_result"
    }
   ],
   "source": [
    "trips_by_start = trips.keyBy(lambda row: row[4])\n",
    "trips_by_end = trips.keyBy(lambda row: row[7])\n",
    "\n",
    "trips_by_start.take(1), trips_by_end.take(1)"
   ]
  },
  {
   "cell_type": "code",
   "execution_count": 54,
   "id": "81fda303",
   "metadata": {},
   "outputs": [
    {
     "data": {
      "text/plain": [
       "[Row(_1=26, _2=['26', 'Redwood City Medical Center', '37.487682', '-122.223492', '15', 'Redwood City', '8/12/2013'], _1='26', _2=['4917', '169', '8/29/2013 18:45', 'Redwood City Medical Center', '26', '8/29/2013 18:48', 'Broadway at Main', '25', '229', 'Subscriber', '94041']),\n",
       " Row(_1=26, _2=['26', 'Redwood City Medical Center', '37.487682', '-122.223492', '15', 'Redwood City', '8/12/2013'], _1='26', _2=['6212', '385', '8/30/2013 17:18', 'Redwood City Medical Center', '26', '8/30/2013 17:24', 'Redwood City Caltrain Station', '22', '249', 'Subscriber', '94041'])]"
      ]
     },
     "execution_count": 54,
     "metadata": {},
     "output_type": "execute_result"
    }
   ],
   "source": [
    "stations_indexed_df = stations_indexed.toDF()\n",
    "trips_by_start_df = trips_by_start.toDF()\n",
    "trips_by_end_df = trips_by_end.toDF()\n",
    "\n",
    "start_trips_df = stations_indexed_df.join(trips_by_start_df, stations_indexed_df._1 == trips_by_start_df._1)\n",
    "end_trips_df = stations_indexed_df.join(trips_by_end_df, stations_indexed_df._1 == trips_by_end_df._1)\n",
    "\n",
    "start_trips_df.take(2)"
   ]
  },
  {
   "cell_type": "markdown",
   "id": "b94c894f",
   "metadata": {},
   "source": [
    "As you can see, we can do the tasks operating with dataframes (but we would need to work with them from the very beginning (not keying anything, not losing the columns names etc.)). A good dataframe approach was shown in the interactive example.\n",
    "\n",
    "However, in this lab I would like to use Data Models approach (creating data classes in Python manually). This allows more convinient control over the data in terms of type casting, changing date format etc. due to the fact that everything related to this will be in one place -- in the class description."
   ]
  },
  {
   "cell_type": "markdown",
   "id": "c223bc13",
   "metadata": {},
   "source": [
    "## Creating data models"
   ]
  },
  {
   "cell_type": "code",
   "execution_count": 55,
   "id": "6218ed78",
   "metadata": {},
   "outputs": [],
   "source": [
    "from typing import NamedTuple\n",
    "from datetime import datetime"
   ]
  },
  {
   "cell_type": "code",
   "execution_count": 56,
   "id": "60849403",
   "metadata": {},
   "outputs": [
    {
     "data": {
      "text/plain": [
       "'id,name,lat,long,dock_count,city,installation_date'"
      ]
     },
     "execution_count": 56,
     "metadata": {},
     "output_type": "execute_result"
    }
   ],
   "source": [
    "stations_header"
   ]
  },
  {
   "cell_type": "code",
   "execution_count": 57,
   "id": "225f6bb3",
   "metadata": {},
   "outputs": [],
   "source": [
    "class Station(NamedTuple):\n",
    "    station_id: int\n",
    "    name: str\n",
    "    lat: float\n",
    "    long: float\n",
    "    dock_count: int\n",
    "    city: str\n",
    "    installation_date: str\n",
    "\n",
    "    @staticmethod\n",
    "    def init_from_list(row):\n",
    "        try:\n",
    "            return Station(\n",
    "                station_id=int(row[0]),\n",
    "                name=row[1],\n",
    "                lat=float(row[2]),\n",
    "                long=float(row[3]),\n",
    "                dock_count=int(row[4]),\n",
    "                city=row[5],\n",
    "#                 installation_date=row[6],\n",
    "                instalation_date = datetime.strptime(row[6], '%m/%/d/%Y'),\n",
    "            )\n",
    "        except Exception as e:\n",
    "            print(e)\n",
    "            return None  # if some field except str if empty, we'll return None"
   ]
  },
  {
   "cell_type": "code",
   "execution_count": 58,
   "id": "4d24bf4b",
   "metadata": {},
   "outputs": [
    {
     "data": {
      "text/plain": [
       "'id,duration,start_date,start_station_name,start_station_id,end_date,end_station_name,end_station_id,bike_id,subscription_type,zip_code'"
      ]
     },
     "execution_count": 58,
     "metadata": {},
     "output_type": "execute_result"
    }
   ],
   "source": [
    "trips_header"
   ]
  },
  {
   "cell_type": "code",
   "execution_count": 59,
   "id": "4c9ec332",
   "metadata": {},
   "outputs": [],
   "source": [
    "class Trip(NamedTuple):\n",
    "    trip_id: int\n",
    "    duration: int\n",
    "    start_date: datetime\n",
    "    start_station_name: str\n",
    "    start_station_id: int\n",
    "    end_date: datetime\n",
    "    end_station_name: str\n",
    "    end_station_id: int\n",
    "    bike_id: int\n",
    "    subscription_type: str\n",
    "    zip_code: str\n",
    "        \n",
    "    @staticmethod\n",
    "    def init_from_list(row):\n",
    "        try:\n",
    "            return Trip(                             \n",
    "                 trip_id=int(row[0]),\n",
    "                 duration=int(row[1]),\n",
    "                 start_date=datetime.strptime(row[2], '%m/%d/%Y %H:%M'),\n",
    "                 start_station_name=row[3],\n",
    "                 start_station_id=int(row[4]),\n",
    "                 end_date=datetime.strptime(row[5], '%m/%d/%Y %H:%M'),\n",
    "                 end_station_name=row[6],\n",
    "                 end_station_id=row[7],\n",
    "                 bike_id=int(row[8]),\n",
    "                 subscription_type=row[9],\n",
    "                 zip_code=row[10]\n",
    "            )\n",
    "        except Exception as e:\n",
    "            print(e)\n",
    "            return None  # if some field except str if empty, we'll return None"
   ]
  },
  {
   "cell_type": "code",
   "execution_count": 60,
   "id": "f3e9cdbc",
   "metadata": {},
   "outputs": [],
   "source": [
    "trips_internal = trips.map(Trip.init_from_list).filter(lambda x: x is not None)"
   ]
  },
  {
   "cell_type": "code",
   "execution_count": 61,
   "id": "01370649",
   "metadata": {},
   "outputs": [
    {
     "data": {
      "text/plain": [
       "Trip(trip_id=4130, duration=71, start_date=datetime.datetime(2013, 8, 29, 10, 16), start_station_name='Mountain View City Hall', start_station_id=27, end_date=datetime.datetime(2013, 8, 29, 10, 17), end_station_name='Mountain View City Hall', end_station_id='27', bike_id=48, subscription_type='Subscriber', zip_code='97214')"
      ]
     },
     "execution_count": 61,
     "metadata": {},
     "output_type": "execute_result"
    }
   ],
   "source": [
    "trips_internal.first()"
   ]
  },
  {
   "cell_type": "code",
   "execution_count": 62,
   "id": "c5a92366",
   "metadata": {},
   "outputs": [
    {
     "data": {
      "text/plain": [
       "datetime.datetime(2013, 8, 29, 10, 16)"
      ]
     },
     "execution_count": 62,
     "metadata": {},
     "output_type": "execute_result"
    }
   ],
   "source": [
    "trips_internal.first().start_date"
   ]
  },
  {
   "cell_type": "code",
   "execution_count": 63,
   "id": "76c9b6c5",
   "metadata": {},
   "outputs": [],
   "source": [
    "stations_internal = stations.map(Station.init_from_list).filter(lambda x: x is not None)"
   ]
  },
  {
   "cell_type": "code",
   "execution_count": 64,
   "id": "b4ccd2a0",
   "metadata": {},
   "outputs": [
    {
     "data": {
      "text/plain": [
       "[]"
      ]
     },
     "execution_count": 64,
     "metadata": {},
     "output_type": "execute_result"
    }
   ],
   "source": [
    "stations_internal.take(3)"
   ]
  },
  {
   "cell_type": "code",
   "execution_count": 65,
   "id": "09e3cd52",
   "metadata": {},
   "outputs": [
    {
     "data": {
      "text/plain": [
       "0"
      ]
     },
     "execution_count": 65,
     "metadata": {},
     "output_type": "execute_result"
    }
   ],
   "source": [
    "stations_internal.count()"
   ]
  },
  {
   "cell_type": "markdown",
   "id": "8cf8023d",
   "metadata": {},
   "source": [
    "## Recall the tasks:\n",
    "\n",
    "1. Найти велосипед с максимальным временем пробега.\n",
    "2. Найти наибольшее геодезическое расстояние между станциями.\n",
    "3. Найти путь велосипеда с максимальным временем пробега через станции.\n",
    "4. Найти количество велосипедов в системе.\n",
    "5. Найти пользователей потративших на поездки более 3 часов."
   ]
  },
  {
   "cell_type": "markdown",
   "id": "0be754bc",
   "metadata": {},
   "source": [
    "1. Find a bike with the largest total trip time"
   ]
  },
  {
   "cell_type": "code",
   "execution_count": 66,
   "id": "a0a1af06",
   "metadata": {},
   "outputs": [],
   "source": [
    "trips_by_bike_id = trips_internal.keyBy(lambda x: x.bike_id)"
   ]
  },
  {
   "cell_type": "code",
   "execution_count": 67,
   "id": "976a7f65",
   "metadata": {},
   "outputs": [],
   "source": [
    "durations_by_bike_id = trips_by_bike_id.mapValues(lambda x: x.duration)"
   ]
  },
  {
   "cell_type": "code",
   "execution_count": 68,
   "id": "7e9bac97",
   "metadata": {},
   "outputs": [],
   "source": [
    "total_durations_by_bike_id = durations_by_bike_id.reduceByKey(lambda a, b: a + b)"
   ]
  },
  {
   "cell_type": "code",
   "execution_count": 69,
   "id": "ddd6d992",
   "metadata": {},
   "outputs": [
    {
     "data": {
      "text/plain": [
       "[(535, 18611693),\n",
       " (466, 3933272),\n",
       " (613, 2409014),\n",
       " (526, 2253019),\n",
       " (415, 2248886),\n",
       " (572, 2234149),\n",
       " (524, 2214314),\n",
       " (542, 2213422),\n",
       " (465, 2185170),\n",
       " (376, 2178177)]"
      ]
     },
     "execution_count": 69,
     "metadata": {},
     "output_type": "execute_result"
    }
   ],
   "source": [
    "top10_total_durations = total_durations_by_bike_id.top(10, key=lambda x: x[1])\n",
    "top10_total_durations"
   ]
  },
  {
   "cell_type": "code",
   "execution_count": 70,
   "id": "88feefc0",
   "metadata": {},
   "outputs": [
    {
     "data": {
      "text/plain": [
       "535"
      ]
     },
     "execution_count": 70,
     "metadata": {},
     "output_type": "execute_result"
    }
   ],
   "source": [
    "top_bike_id = top10_total_durations[0][0]\n",
    "top_bike_id"
   ]
  },
  {
   "cell_type": "markdown",
   "id": "6face03f",
   "metadata": {},
   "source": [
    "2. Find the largest distance between stations"
   ]
  },
  {
   "cell_type": "code",
   "execution_count": 71,
   "id": "678bc005",
   "metadata": {},
   "outputs": [],
   "source": [
    "from math import sqrt"
   ]
  },
  {
   "cell_type": "code",
   "execution_count": 72,
   "id": "9ee8de41",
   "metadata": {},
   "outputs": [],
   "source": [
    "coords_by_st = stations_internal.keyBy(lambda x: (x.station_id, x.name)).mapValues(lambda x: (x.lat, x.long))"
   ]
  },
  {
   "cell_type": "code",
   "execution_count": 73,
   "id": "f733160c",
   "metadata": {},
   "outputs": [],
   "source": [
    "pairs_coords_by_st = coords_by_st.cartesian(coords_by_st)  \n",
    "# elements of type: (((station_id, name), (lat, long)), ((station_id, name), (lat, long)))"
   ]
  },
  {
   "cell_type": "code",
   "execution_count": 74,
   "id": "2fafda64",
   "metadata": {},
   "outputs": [
    {
     "data": {
      "text/plain": [
       "[]"
      ]
     },
     "execution_count": 74,
     "metadata": {},
     "output_type": "execute_result"
    }
   ],
   "source": [
    "pairs_coords_by_st.take(3)"
   ]
  },
  {
   "cell_type": "code",
   "execution_count": 75,
   "id": "a62ad613",
   "metadata": {},
   "outputs": [],
   "source": [
    "def dist(a, b):\n",
    "    return sqrt((a[0] - b[0])**2 + (a[1] - b[1])**2)"
   ]
  },
  {
   "cell_type": "code",
   "execution_count": 76,
   "id": "9f858a99",
   "metadata": {},
   "outputs": [],
   "source": [
    "distances = pairs_coords_by_st.keyBy(lambda x: (x[0][0], x[1][0])).mapValues(lambda x: dist(x[0][1], x[1][1]))"
   ]
  },
  {
   "cell_type": "code",
   "execution_count": 77,
   "id": "1482cdf2",
   "metadata": {},
   "outputs": [
    {
     "data": {
      "text/plain": [
       "[]"
      ]
     },
     "execution_count": 77,
     "metadata": {},
     "output_type": "execute_result"
    }
   ],
   "source": [
    "distances.top(1, key=lambda x: x[1])"
   ]
  },
  {
   "cell_type": "markdown",
   "id": "8aa6c0f2",
   "metadata": {},
   "source": [
    "3. Find the path went by a bicycle with the largest total trip time"
   ]
  },
  {
   "cell_type": "code",
   "execution_count": 78,
   "id": "87cc3a14",
   "metadata": {},
   "outputs": [],
   "source": [
    "top_bike_trips_sorted = trips_internal.filter(lambda trip: trip.bike_id == top_bike_id).sortBy(lambda trip: trip.start_date)"
   ]
  },
  {
   "cell_type": "code",
   "execution_count": 79,
   "id": "df264801",
   "metadata": {},
   "outputs": [],
   "source": [
    "path = []"
   ]
  },
  {
   "cell_type": "code",
   "execution_count": 80,
   "id": "88bbe086",
   "metadata": {},
   "outputs": [],
   "source": [
    "path.append(top_bike_trips_sorted.first().start_station_name)"
   ]
  },
  {
   "cell_type": "code",
   "execution_count": 81,
   "id": "51518a34",
   "metadata": {},
   "outputs": [],
   "source": [
    "path.extend(top_bike_trips_sorted.map(lambda trip: trip.end_station_name).collect())"
   ]
  },
  {
   "cell_type": "code",
   "execution_count": 82,
   "id": "eb56b984",
   "metadata": {},
   "outputs": [
    {
     "data": {
      "text/plain": [
       "['Post at Kearney',\n",
       " 'San Francisco Caltrain (Townsend at 4th)',\n",
       " 'San Francisco Caltrain 2 (330 Townsend)',\n",
       " 'Market at Sansome',\n",
       " '2nd at South Park',\n",
       " 'Davis at Jackson',\n",
       " 'Civic Center BART (7th at Market)',\n",
       " 'Post at Kearney',\n",
       " 'Embarcadero at Sansome',\n",
       " 'Washington at Kearney',\n",
       " 'Market at Sansome',\n",
       " 'Market at Sansome',\n",
       " '2nd at Folsom',\n",
       " '2nd at Townsend',\n",
       " '2nd at Townsend',\n",
       " 'Embarcadero at Sansome',\n",
       " 'Clay at Battery',\n",
       " 'Harry Bridges Plaza (Ferry Building)',\n",
       " 'Clay at Battery',\n",
       " 'San Francisco Caltrain (Townsend at 4th)',\n",
       " 'Steuart at Market',\n",
       " '2nd at Townsend',\n",
       " 'Harry Bridges Plaza (Ferry Building)',\n",
       " 'Townsend at 7th',\n",
       " 'San Francisco Caltrain (Townsend at 4th)',\n",
       " 'San Francisco Caltrain 2 (330 Townsend)',\n",
       " 'Townsend at 7th',\n",
       " 'San Francisco Caltrain (Townsend at 4th)',\n",
       " '2nd at South Park',\n",
       " '5th at Howard',\n",
       " 'San Francisco Caltrain 2 (330 Townsend)',\n",
       " 'Mechanics Plaza (Market at Battery)',\n",
       " 'Powell at Post (Union Square)',\n",
       " 'Powell at Post (Union Square)',\n",
       " '5th at Howard',\n",
       " 'Mechanics Plaza (Market at Battery)',\n",
       " 'Market at 4th',\n",
       " 'Market at 10th',\n",
       " 'San Francisco Caltrain (Townsend at 4th)',\n",
       " 'Civic Center BART (7th at Market)',\n",
       " 'Beale at Market',\n",
       " 'Golden Gate at Polk',\n",
       " '5th at Howard',\n",
       " 'San Francisco Caltrain (Townsend at 4th)',\n",
       " 'San Francisco Caltrain (Townsend at 4th)',\n",
       " 'Mechanics Plaza (Market at Battery)',\n",
       " 'Market at 10th',\n",
       " 'Market at 4th',\n",
       " 'San Francisco Caltrain (Townsend at 4th)',\n",
       " '5th at Howard',\n",
       " 'Harry Bridges Plaza (Ferry Building)',\n",
       " 'Powell Street BART',\n",
       " 'San Francisco City Hall',\n",
       " '5th at Howard',\n",
       " 'Market at 10th',\n",
       " 'San Francisco Caltrain 2 (330 Townsend)',\n",
       " 'Townsend at 7th',\n",
       " 'San Francisco Caltrain (Townsend at 4th)',\n",
       " 'Steuart at Market',\n",
       " '2nd at Townsend',\n",
       " 'Steuart at Market',\n",
       " '2nd at Townsend',\n",
       " 'San Francisco Caltrain 2 (330 Townsend)',\n",
       " 'Townsend at 7th',\n",
       " 'Temporary Transbay Terminal (Howard at Beale)',\n",
       " 'Clay at Battery',\n",
       " 'Spear at Folsom',\n",
       " '2nd at South Park',\n",
       " '2nd at Folsom',\n",
       " 'Davis at Jackson',\n",
       " 'Beale at Market',\n",
       " 'Powell Street BART',\n",
       " 'Steuart at Market',\n",
       " 'San Francisco Caltrain 2 (330 Townsend)',\n",
       " 'Market at 4th',\n",
       " 'Market at Sansome',\n",
       " 'Temporary Transbay Terminal (Howard at Beale)',\n",
       " 'Spear at Folsom',\n",
       " 'Mechanics Plaza (Market at Battery)',\n",
       " 'Davis at Jackson',\n",
       " 'Embarcadero at Vallejo',\n",
       " 'San Francisco Caltrain (Townsend at 4th)',\n",
       " 'Harry Bridges Plaza (Ferry Building)',\n",
       " 'Market at 4th',\n",
       " 'San Francisco Caltrain 2 (330 Townsend)',\n",
       " 'Powell Street BART',\n",
       " 'Civic Center BART (7th at Market)',\n",
       " 'Townsend at 7th',\n",
       " 'Yerba Buena Center of the Arts (3rd @ Howard)',\n",
       " 'San Francisco Caltrain (Townsend at 4th)',\n",
       " 'San Francisco City Hall',\n",
       " 'San Francisco Caltrain (Townsend at 4th)',\n",
       " 'Civic Center BART (7th at Market)',\n",
       " 'Embarcadero at Vallejo',\n",
       " 'San Francisco Caltrain (Townsend at 4th)',\n",
       " 'Embarcadero at Sansome',\n",
       " 'Embarcadero at Vallejo',\n",
       " 'Temporary Transbay Terminal (Howard at Beale)',\n",
       " 'Yerba Buena Center of the Arts (3rd @ Howard)',\n",
       " 'Spear at Folsom',\n",
       " 'Civic Center BART (7th at Market)',\n",
       " 'Washington at Kearney',\n",
       " 'Embarcadero at Sansome',\n",
       " 'Washington at Kearney',\n",
       " 'Market at Sansome',\n",
       " 'Temporary Transbay Terminal (Howard at Beale)',\n",
       " 'San Francisco Caltrain (Townsend at 4th)',\n",
       " 'Embarcadero at Sansome',\n",
       " 'Steuart at Market',\n",
       " 'Embarcadero at Sansome',\n",
       " 'Market at Sansome',\n",
       " 'Market at 10th',\n",
       " 'Townsend at 7th',\n",
       " 'San Francisco Caltrain (Townsend at 4th)',\n",
       " 'Yerba Buena Center of the Arts (3rd @ Howard)',\n",
       " 'San Francisco Caltrain 2 (330 Townsend)',\n",
       " 'Market at 4th',\n",
       " 'San Francisco Caltrain (Townsend at 4th)',\n",
       " '2nd at Folsom',\n",
       " '2nd at South Park',\n",
       " 'Spear at Folsom',\n",
       " 'Washington at Kearney',\n",
       " 'Embarcadero at Sansome',\n",
       " 'Clay at Battery',\n",
       " 'Steuart at Market',\n",
       " 'San Francisco Caltrain (Townsend at 4th)',\n",
       " 'San Francisco Caltrain (Townsend at 4th)',\n",
       " '2nd at South Park',\n",
       " 'Steuart at Market',\n",
       " '2nd at Townsend',\n",
       " 'Embarcadero at Folsom',\n",
       " 'San Francisco Caltrain (Townsend at 4th)',\n",
       " 'Embarcadero at Bryant',\n",
       " 'Townsend at 7th',\n",
       " 'Embarcadero at Sansome',\n",
       " 'Harry Bridges Plaza (Ferry Building)',\n",
       " '5th at Howard',\n",
       " 'San Francisco Caltrain (Townsend at 4th)',\n",
       " 'Market at Sansome',\n",
       " 'Market at 10th',\n",
       " 'Townsend at 7th',\n",
       " 'San Francisco Caltrain (Townsend at 4th)',\n",
       " 'Howard at 2nd',\n",
       " 'Temporary Transbay Terminal (Howard at Beale)',\n",
       " 'Golden Gate at Polk',\n",
       " 'Steuart at Market',\n",
       " 'Embarcadero at Vallejo',\n",
       " 'Steuart at Market',\n",
       " '2nd at South Park',\n",
       " 'Temporary Transbay Terminal (Howard at Beale)',\n",
       " 'Embarcadero at Sansome',\n",
       " 'Beale at Market',\n",
       " 'Spear at Folsom',\n",
       " 'Commercial at Montgomery',\n",
       " 'Market at 10th',\n",
       " 'San Francisco Caltrain (Townsend at 4th)',\n",
       " 'Townsend at 7th',\n",
       " 'San Francisco Caltrain 2 (330 Townsend)',\n",
       " 'Howard at 2nd',\n",
       " 'Embarcadero at Bryant',\n",
       " 'Embarcadero at Bryant',\n",
       " 'Market at 4th',\n",
       " 'Harry Bridges Plaza (Ferry Building)',\n",
       " 'Civic Center BART (7th at Market)',\n",
       " 'San Francisco Caltrain (Townsend at 4th)',\n",
       " 'Steuart at Market',\n",
       " 'Spear at Folsom',\n",
       " 'San Francisco Caltrain 2 (330 Townsend)',\n",
       " 'Spear at Folsom',\n",
       " '2nd at Townsend',\n",
       " 'Harry Bridges Plaza (Ferry Building)',\n",
       " 'Embarcadero at Bryant',\n",
       " 'Davis at Jackson',\n",
       " 'Townsend at 7th',\n",
       " 'Market at 4th',\n",
       " 'San Francisco Caltrain (Townsend at 4th)',\n",
       " 'Embarcadero at Vallejo',\n",
       " 'Market at Sansome',\n",
       " 'Embarcadero at Sansome',\n",
       " 'Powell Street BART',\n",
       " 'San Francisco Caltrain (Townsend at 4th)',\n",
       " 'Beale at Market',\n",
       " 'Temporary Transbay Terminal (Howard at Beale)',\n",
       " 'Grant Avenue at Columbus Avenue',\n",
       " 'Temporary Transbay Terminal (Howard at Beale)',\n",
       " 'San Francisco Caltrain (Townsend at 4th)',\n",
       " 'Embarcadero at Sansome',\n",
       " 'Steuart at Market',\n",
       " '2nd at Townsend',\n",
       " 'Howard at 2nd',\n",
       " 'Powell at Post (Union Square)',\n",
       " 'Embarcadero at Sansome',\n",
       " 'Washington at Kearney',\n",
       " 'Embarcadero at Sansome',\n",
       " 'Embarcadero at Sansome',\n",
       " 'Golden Gate at Polk',\n",
       " 'Golden Gate at Polk',\n",
       " 'Commercial at Montgomery',\n",
       " 'Mechanics Plaza (Market at Battery)',\n",
       " 'San Francisco Caltrain (Townsend at 4th)',\n",
       " 'Harry Bridges Plaza (Ferry Building)',\n",
       " 'Powell Street BART',\n",
       " 'Harry Bridges Plaza (Ferry Building)',\n",
       " 'Market at Sansome',\n",
       " 'Civic Center BART (7th at Market)',\n",
       " 'Embarcadero at Vallejo',\n",
       " 'Embarcadero at Bryant',\n",
       " 'San Francisco Caltrain 2 (330 Townsend)',\n",
       " 'Steuart at Market',\n",
       " 'Howard at 2nd',\n",
       " 'South Van Ness at Market',\n",
       " 'San Francisco Caltrain (Townsend at 4th)',\n",
       " 'Davis at Jackson',\n",
       " 'Embarcadero at Sansome',\n",
       " 'Steuart at Market',\n",
       " '2nd at Townsend',\n",
       " 'Steuart at Market',\n",
       " 'Steuart at Market',\n",
       " 'Post at Kearney',\n",
       " 'Embarcadero at Folsom',\n",
       " '2nd at Townsend',\n",
       " 'Embarcadero at Sansome',\n",
       " 'Embarcadero at Vallejo',\n",
       " 'Yerba Buena Center of the Arts (3rd @ Howard)',\n",
       " 'Harry Bridges Plaza (Ferry Building)',\n",
       " 'Spear at Folsom',\n",
       " '2nd at Townsend',\n",
       " 'Steuart at Market',\n",
       " 'Steuart at Market',\n",
       " 'Embarcadero at Sansome',\n",
       " 'Steuart at Market',\n",
       " 'Steuart at Market',\n",
       " 'San Francisco Caltrain 2 (330 Townsend)',\n",
       " '5th at Howard',\n",
       " 'San Francisco Caltrain (Townsend at 4th)',\n",
       " 'Embarcadero at Sansome',\n",
       " 'San Francisco Caltrain (Townsend at 4th)',\n",
       " 'Embarcadero at Sansome',\n",
       " 'Market at 4th',\n",
       " 'South Van Ness at Market',\n",
       " 'Market at 10th',\n",
       " 'Market at 10th',\n",
       " 'San Francisco Caltrain (Townsend at 4th)',\n",
       " 'Yerba Buena Center of the Arts (3rd @ Howard)',\n",
       " 'Spear at Folsom',\n",
       " 'Post at Kearney',\n",
       " 'Washington at Kearney',\n",
       " 'Embarcadero at Folsom',\n",
       " 'Clay at Battery',\n",
       " 'Embarcadero at Folsom',\n",
       " 'San Francisco Caltrain (Townsend at 4th)',\n",
       " '5th at Howard',\n",
       " 'Spear at Folsom',\n",
       " 'Mechanics Plaza (Market at Battery)',\n",
       " 'Temporary Transbay Terminal (Howard at Beale)',\n",
       " '2nd at Townsend',\n",
       " 'Embarcadero at Vallejo',\n",
       " 'Embarcadero at Folsom',\n",
       " 'San Francisco Caltrain (Townsend at 4th)',\n",
       " 'Temporary Transbay Terminal (Howard at Beale)',\n",
       " 'Market at 10th',\n",
       " 'Powell Street BART',\n",
       " 'Market at 10th',\n",
       " 'Market at 4th',\n",
       " 'San Francisco Caltrain (Townsend at 4th)',\n",
       " 'Embarcadero at Vallejo',\n",
       " 'Market at Sansome',\n",
       " 'Davis at Jackson',\n",
       " 'Beale at Market',\n",
       " 'Davis at Jackson',\n",
       " 'San Francisco Caltrain (Townsend at 4th)',\n",
       " 'South Van Ness at Market',\n",
       " 'Howard at 2nd',\n",
       " '2nd at South Park',\n",
       " '2nd at Folsom',\n",
       " '2nd at South Park',\n",
       " 'San Francisco Caltrain (Townsend at 4th)',\n",
       " 'Embarcadero at Bryant',\n",
       " 'San Francisco Caltrain (Townsend at 4th)',\n",
       " '2nd at Folsom',\n",
       " 'Market at Sansome',\n",
       " '2nd at South Park',\n",
       " 'Howard at 2nd',\n",
       " 'Market at 4th',\n",
       " 'Golden Gate at Polk',\n",
       " 'San Francisco Caltrain (Townsend at 4th)',\n",
       " 'Embarcadero at Vallejo',\n",
       " 'San Francisco Caltrain 2 (330 Townsend)',\n",
       " 'Market at Sansome',\n",
       " '2nd at South Park',\n",
       " 'Market at Sansome',\n",
       " 'Steuart at Market',\n",
       " 'Spear at Folsom',\n",
       " '2nd at Folsom',\n",
       " 'San Francisco Caltrain (Townsend at 4th)',\n",
       " 'Market at Sansome',\n",
       " '5th at Howard',\n",
       " 'Embarcadero at Bryant',\n",
       " '5th at Howard',\n",
       " 'Townsend at 7th',\n",
       " 'Beale at Market',\n",
       " 'Commercial at Montgomery',\n",
       " 'Yerba Buena Center of the Arts (3rd @ Howard)',\n",
       " 'South Van Ness at Market',\n",
       " 'Powell at Post (Union Square)',\n",
       " 'Mechanics Plaza (Market at Battery)',\n",
       " '2nd at Folsom',\n",
       " 'Clay at Battery',\n",
       " 'Harry Bridges Plaza (Ferry Building)',\n",
       " 'Market at 4th',\n",
       " 'San Francisco Caltrain (Townsend at 4th)',\n",
       " 'Howard at 2nd',\n",
       " 'Powell at Post (Union Square)',\n",
       " 'San Francisco Caltrain (Townsend at 4th)',\n",
       " 'Townsend at 7th',\n",
       " 'Embarcadero at Bryant',\n",
       " 'Spear at Folsom',\n",
       " 'Broadway St at Battery St',\n",
       " 'Broadway St at Battery St',\n",
       " 'Steuart at Market',\n",
       " 'Townsend at 7th',\n",
       " 'San Francisco Caltrain (Townsend at 4th)',\n",
       " '5th at Howard',\n",
       " 'San Francisco Caltrain (Townsend at 4th)',\n",
       " 'Steuart at Market',\n",
       " 'Clay at Battery',\n",
       " 'Embarcadero at Folsom',\n",
       " 'Embarcadero at Sansome',\n",
       " 'Harry Bridges Plaza (Ferry Building)',\n",
       " '2nd at Townsend',\n",
       " 'Beale at Market',\n",
       " 'Broadway St at Battery St',\n",
       " 'Clay at Battery',\n",
       " 'San Francisco Caltrain (Townsend at 4th)',\n",
       " '2nd at South Park',\n",
       " 'San Francisco Caltrain (Townsend at 4th)',\n",
       " 'South Van Ness at Market',\n",
       " 'Market at Sansome',\n",
       " 'Embarcadero at Sansome',\n",
       " 'Embarcadero at Folsom',\n",
       " 'Washington at Kearney',\n",
       " 'San Francisco Caltrain 2 (330 Townsend)',\n",
       " 'Harry Bridges Plaza (Ferry Building)',\n",
       " 'Howard at 2nd',\n",
       " 'Powell Street BART',\n",
       " 'South Van Ness at Market',\n",
       " 'Civic Center BART (7th at Market)',\n",
       " 'Townsend at 7th',\n",
       " 'Harry Bridges Plaza (Ferry Building)',\n",
       " 'Powell Street BART',\n",
       " 'Temporary Transbay Terminal (Howard at Beale)',\n",
       " 'San Francisco Caltrain 2 (330 Townsend)',\n",
       " 'South Van Ness at Market',\n",
       " 'Howard at 2nd',\n",
       " 'Grant Avenue at Columbus Avenue',\n",
       " 'Harry Bridges Plaza (Ferry Building)',\n",
       " 'Grant Avenue at Columbus Avenue',\n",
       " 'Powell at Post (Union Square)',\n",
       " 'Harry Bridges Plaza (Ferry Building)',\n",
       " 'Post at Kearney',\n",
       " 'Post at Kearney',\n",
       " '2nd at Townsend',\n",
       " 'Howard at 2nd',\n",
       " 'San Francisco Caltrain 2 (330 Townsend)',\n",
       " 'Townsend at 7th',\n",
       " 'San Francisco City Hall',\n",
       " 'San Francisco Caltrain 2 (330 Townsend)',\n",
       " '2nd at Folsom',\n",
       " 'Commercial at Montgomery',\n",
       " '5th at Howard',\n",
       " 'Spear at Folsom',\n",
       " '5th at Howard',\n",
       " 'San Francisco Caltrain (Townsend at 4th)',\n",
       " 'Mechanics Plaza (Market at Battery)',\n",
       " 'Temporary Transbay Terminal (Howard at Beale)',\n",
       " 'Embarcadero at Vallejo',\n",
       " 'Beale at Market',\n",
       " 'Market at 4th',\n",
       " 'Harry Bridges Plaza (Ferry Building)',\n",
       " 'Spear at Folsom',\n",
       " 'Washington at Kearney',\n",
       " 'Clay at Battery',\n",
       " '2nd at Folsom',\n",
       " 'Clay at Battery',\n",
       " '5th at Howard',\n",
       " '2nd at Townsend',\n",
       " 'Market at Sansome',\n",
       " 'Powell at Post (Union Square)',\n",
       " 'Embarcadero at Sansome',\n",
       " 'Powell at Post (Union Square)',\n",
       " 'Embarcadero at Sansome',\n",
       " 'Harry Bridges Plaza (Ferry Building)',\n",
       " '5th at Howard',\n",
       " 'Market at Sansome',\n",
       " '2nd at South Park',\n",
       " 'San Francisco Caltrain (Townsend at 4th)',\n",
       " 'Commercial at Montgomery',\n",
       " 'Davis at Jackson',\n",
       " 'Commercial at Montgomery',\n",
       " 'San Francisco Caltrain (Townsend at 4th)',\n",
       " 'Temporary Transbay Terminal (Howard at Beale)',\n",
       " '2nd at South Park',\n",
       " 'Market at Sansome',\n",
       " 'Clay at Battery',\n",
       " 'Clay at Battery',\n",
       " 'San Francisco Caltrain (Townsend at 4th)',\n",
       " '2nd at Townsend',\n",
       " 'Steuart at Market',\n",
       " 'Embarcadero at Sansome',\n",
       " 'Commercial at Montgomery',\n",
       " 'San Francisco Caltrain (Townsend at 4th)',\n",
       " '2nd at Townsend',\n",
       " 'Commercial at Montgomery',\n",
       " 'Temporary Transbay Terminal (Howard at Beale)',\n",
       " 'Embarcadero at Sansome',\n",
       " 'Steuart at Market',\n",
       " 'Embarcadero at Sansome',\n",
       " 'Steuart at Market',\n",
       " 'San Francisco Caltrain 2 (330 Townsend)',\n",
       " '5th at Howard',\n",
       " 'San Francisco Caltrain (Townsend at 4th)',\n",
       " 'Harry Bridges Plaza (Ferry Building)',\n",
       " 'Embarcadero at Sansome',\n",
       " 'San Francisco Caltrain (Townsend at 4th)',\n",
       " 'Townsend at 7th',\n",
       " 'Market at 4th',\n",
       " 'San Francisco Caltrain (Townsend at 4th)',\n",
       " 'Embarcadero at Bryant',\n",
       " 'Civic Center BART (7th at Market)',\n",
       " 'Embarcadero at Vallejo',\n",
       " 'Embarcadero at Sansome',\n",
       " 'Harry Bridges Plaza (Ferry Building)',\n",
       " 'San Francisco Caltrain (Townsend at 4th)',\n",
       " 'Broadway St at Battery St',\n",
       " 'Steuart at Market',\n",
       " 'Market at Sansome',\n",
       " 'Market at 4th',\n",
       " 'Steuart at Market',\n",
       " 'Embarcadero at Sansome',\n",
       " 'Steuart at Market',\n",
       " 'Embarcadero at Vallejo',\n",
       " 'Mechanics Plaza (Market at Battery)',\n",
       " 'Davis at Jackson',\n",
       " 'Steuart at Market',\n",
       " 'San Francisco Caltrain (Townsend at 4th)',\n",
       " 'Temporary Transbay Terminal (Howard at Beale)',\n",
       " 'Civic Center BART (7th at Market)',\n",
       " 'Market at 10th',\n",
       " 'Market at 10th',\n",
       " 'Mechanics Plaza (Market at Battery)',\n",
       " 'Embarcadero at Vallejo',\n",
       " 'Steuart at Market',\n",
       " 'Embarcadero at Vallejo',\n",
       " 'San Francisco Caltrain 2 (330 Townsend)',\n",
       " 'Townsend at 7th',\n",
       " 'South Van Ness at Market',\n",
       " 'Civic Center BART (7th at Market)',\n",
       " 'Market at 10th',\n",
       " 'San Francisco Caltrain (Townsend at 4th)',\n",
       " 'Market at 4th',\n",
       " 'San Francisco Caltrain (Townsend at 4th)',\n",
       " 'Steuart at Market',\n",
       " 'Harry Bridges Plaza (Ferry Building)',\n",
       " 'San Francisco Caltrain (Townsend at 4th)',\n",
       " 'Clay at Battery',\n",
       " 'Powell Street BART',\n",
       " '2nd at Folsom',\n",
       " 'Market at Sansome',\n",
       " 'Embarcadero at Vallejo',\n",
       " 'Embarcadero at Vallejo',\n",
       " 'San Francisco Caltrain (Townsend at 4th)',\n",
       " 'Powell Street BART',\n",
       " 'Embarcadero at Sansome',\n",
       " 'Steuart at Market',\n",
       " 'Embarcadero at Folsom',\n",
       " 'Steuart at Market',\n",
       " 'Embarcadero at Sansome',\n",
       " 'Harry Bridges Plaza (Ferry Building)',\n",
       " 'Grant Avenue at Columbus Avenue',\n",
       " 'Market at Sansome',\n",
       " '2nd at South Park',\n",
       " 'Washington at Kearny',\n",
       " 'Washington at Kearny',\n",
       " 'Powell at Post (Union Square)',\n",
       " 'Embarcadero at Sansome',\n",
       " 'Beale at Market',\n",
       " '2nd at Townsend',\n",
       " 'Clay at Battery',\n",
       " 'San Francisco Caltrain (Townsend at 4th)',\n",
       " 'Temporary Transbay Terminal (Howard at Beale)',\n",
       " 'Embarcadero at Vallejo',\n",
       " 'Embarcadero at Sansome',\n",
       " 'Davis at Jackson',\n",
       " '2nd at Townsend',\n",
       " 'Steuart at Market',\n",
       " 'Embarcadero at Sansome',\n",
       " 'Market at Sansome',\n",
       " '5th at Howard',\n",
       " 'Market at 10th',\n",
       " 'Harry Bridges Plaza (Ferry Building)',\n",
       " 'Commercial at Montgomery',\n",
       " 'South Van Ness at Market',\n",
       " 'Post at Kearny',\n",
       " 'Washington at Kearny',\n",
       " 'Embarcadero at Sansome',\n",
       " 'Embarcadero at Sansome',\n",
       " 'South Van Ness at Market',\n",
       " 'Davis at Jackson',\n",
       " 'Washington at Kearny',\n",
       " 'Temporary Transbay Terminal (Howard at Beale)',\n",
       " 'Clay at Battery',\n",
       " 'Embarcadero at Folsom',\n",
       " '2nd at Townsend',\n",
       " 'Steuart at Market',\n",
       " 'Embarcadero at Sansome',\n",
       " 'Spear at Folsom',\n",
       " 'Civic Center BART (7th at Market)',\n",
       " 'Clay at Battery',\n",
       " 'Powell Street BART',\n",
       " 'Civic Center BART (7th at Market)',\n",
       " 'Market at 4th',\n",
       " 'South Van Ness at Market',\n",
       " 'Beale at Market',\n",
       " 'Embarcadero at Vallejo',\n",
       " 'Embarcadero at Folsom',\n",
       " 'Beale at Market',\n",
       " 'Spear at Folsom',\n",
       " 'Spear at Folsom',\n",
       " 'Harry Bridges Plaza (Ferry Building)',\n",
       " 'Mechanics Plaza (Market at Battery)',\n",
       " 'Embarcadero at Sansome',\n",
       " 'Golden Gate at Polk',\n",
       " 'Civic Center BART (7th at Market)',\n",
       " 'Market at 4th',\n",
       " 'Grant Avenue at Columbus Avenue',\n",
       " 'Market at Sansome',\n",
       " '2nd at South Park',\n",
       " 'Market at Sansome',\n",
       " '2nd at South Park',\n",
       " 'South Van Ness at Market',\n",
       " 'San Francisco Caltrain 2 (330 Townsend)',\n",
       " 'Embarcadero at Bryant',\n",
       " 'San Francisco Caltrain (Townsend at 4th)',\n",
       " 'Harry Bridges Plaza (Ferry Building)',\n",
       " '2nd at Townsend',\n",
       " 'Powell Street BART',\n",
       " 'South Van Ness at Market',\n",
       " 'Embarcadero at Vallejo',\n",
       " 'South Van Ness at Market',\n",
       " 'Civic Center BART (7th at Market)',\n",
       " 'Townsend at 7th',\n",
       " 'Market at Sansome',\n",
       " 'Townsend at 7th',\n",
       " '2nd at Townsend',\n",
       " 'Townsend at 7th',\n",
       " 'San Francisco Caltrain (Townsend at 4th)',\n",
       " 'Washington at Kearny',\n",
       " 'Harry Bridges Plaza (Ferry Building)',\n",
       " 'Harry Bridges Plaza (Ferry Building)',\n",
       " 'South Van Ness at Market',\n",
       " 'South Van Ness at Market',\n",
       " 'Townsend at 7th',\n",
       " 'Golden Gate at Polk',\n",
       " '5th at Howard',\n",
       " 'San Francisco Caltrain (Townsend at 4th)',\n",
       " 'Davis at Jackson',\n",
       " 'Mechanics Plaza (Market at Battery)',\n",
       " '5th at Howard',\n",
       " 'Market at Sansome',\n",
       " '2nd at Townsend',\n",
       " 'Harry Bridges Plaza (Ferry Building)',\n",
       " 'Embarcadero at Bryant',\n",
       " '2nd at Folsom',\n",
       " 'Steuart at Market',\n",
       " 'Embarcadero at Vallejo',\n",
       " 'Powell Street BART',\n",
       " 'Clay at Battery',\n",
       " 'Yerba Buena Center of the Arts (3rd @ Howard)',\n",
       " 'San Francisco Caltrain (Townsend at 4th)',\n",
       " 'Embarcadero at Sansome',\n",
       " 'Embarcadero at Sansome',\n",
       " 'Grant Avenue at Columbus Avenue',\n",
       " 'Commercial at Montgomery',\n",
       " 'Embarcadero at Sansome',\n",
       " 'Embarcadero at Sansome',\n",
       " 'Harry Bridges Plaza (Ferry Building)',\n",
       " 'Embarcadero at Sansome',\n",
       " 'Harry Bridges Plaza (Ferry Building)',\n",
       " '2nd at Townsend',\n",
       " 'Embarcadero at Sansome',\n",
       " '2nd at Townsend',\n",
       " 'Steuart at Market',\n",
       " 'San Francisco Caltrain (Townsend at 4th)',\n",
       " '5th at Howard',\n",
       " 'Market at Sansome',\n",
       " '5th at Howard',\n",
       " 'Commercial at Montgomery',\n",
       " '2nd at Folsom',\n",
       " 'Temporary Transbay Terminal (Howard at Beale)',\n",
       " 'Howard at 2nd',\n",
       " 'Yerba Buena Center of the Arts (3rd @ Howard)',\n",
       " 'San Francisco Caltrain 2 (330 Townsend)',\n",
       " 'Howard at 2nd',\n",
       " 'San Francisco Caltrain 2 (330 Townsend)',\n",
       " 'Steuart at Market',\n",
       " 'Embarcadero at Sansome',\n",
       " 'Clay at Battery',\n",
       " '2nd at South Park',\n",
       " 'Townsend at 7th',\n",
       " 'San Francisco Caltrain (Townsend at 4th)',\n",
       " '2nd at Townsend',\n",
       " 'Steuart at Market',\n",
       " '2nd at South Park',\n",
       " 'Temporary Transbay Terminal (Howard at Beale)',\n",
       " 'Spear at Folsom',\n",
       " '2nd at South Park',\n",
       " 'Townsend at 7th',\n",
       " '2nd at South Park',\n",
       " 'Market at Sansome',\n",
       " 'Steuart at Market',\n",
       " 'San Francisco Caltrain (Townsend at 4th)',\n",
       " 'Market at Sansome',\n",
       " 'Howard at 2nd',\n",
       " 'San Francisco Caltrain (Townsend at 4th)',\n",
       " 'Market at 10th',\n",
       " '5th at Howard',\n",
       " 'Market at 10th',\n",
       " 'Market at 10th',\n",
       " 'Golden Gate at Polk',\n",
       " 'Embarcadero at Vallejo',\n",
       " 'Davis at Jackson',\n",
       " 'Embarcadero at Sansome',\n",
       " 'San Francisco Caltrain (Townsend at 4th)',\n",
       " 'Grant Avenue at Columbus Avenue',\n",
       " 'Market at Sansome',\n",
       " 'Davis at Jackson',\n",
       " 'San Francisco Caltrain (Townsend at 4th)',\n",
       " 'Harry Bridges Plaza (Ferry Building)',\n",
       " 'Townsend at 7th',\n",
       " 'Embarcadero at Vallejo',\n",
       " 'Embarcadero at Sansome',\n",
       " 'Harry Bridges Plaza (Ferry Building)',\n",
       " '2nd at Folsom',\n",
       " 'Clay at Battery',\n",
       " 'San Francisco Caltrain 2 (330 Townsend)',\n",
       " '2nd at Folsom',\n",
       " 'Market at Sansome',\n",
       " 'Market at Sansome',\n",
       " 'Market at 4th',\n",
       " 'San Francisco Caltrain (Townsend at 4th)',\n",
       " 'Steuart at Market',\n",
       " '2nd at South Park',\n",
       " 'Market at Sansome',\n",
       " 'Post at Kearny',\n",
       " 'Mechanics Plaza (Market at Battery)',\n",
       " 'Powell at Post (Union Square)',\n",
       " 'San Francisco Caltrain (Townsend at 4th)',\n",
       " 'Clay at Battery',\n",
       " 'Yerba Buena Center of the Arts (3rd @ Howard)',\n",
       " 'San Francisco Caltrain (Townsend at 4th)',\n",
       " 'Clay at Battery',\n",
       " '2nd at Townsend',\n",
       " 'Howard at 2nd',\n",
       " 'San Francisco Caltrain 2 (330 Townsend)',\n",
       " 'South Van Ness at Market',\n",
       " 'Howard at 2nd',\n",
       " 'Embarcadero at Sansome',\n",
       " 'Steuart at Market',\n",
       " 'Steuart at Market',\n",
       " 'Embarcadero at Sansome',\n",
       " 'Townsend at 7th',\n",
       " 'San Francisco Caltrain (Townsend at 4th)',\n",
       " 'Civic Center BART (7th at Market)',\n",
       " 'San Francisco Caltrain (Townsend at 4th)',\n",
       " 'Civic Center BART (7th at Market)',\n",
       " 'Townsend at 7th',\n",
       " 'Embarcadero at Sansome',\n",
       " 'Washington at Kearny',\n",
       " 'San Francisco Caltrain (Townsend at 4th)',\n",
       " 'Embarcadero at Sansome',\n",
       " 'Steuart at Market',\n",
       " 'Clay at Battery',\n",
       " '2nd at South Park',\n",
       " 'Market at Sansome',\n",
       " 'Steuart at Market',\n",
       " '2nd at South Park',\n",
       " 'Howard at 2nd',\n",
       " 'Harry Bridges Plaza (Ferry Building)',\n",
       " '2nd at Townsend',\n",
       " 'Harry Bridges Plaza (Ferry Building)',\n",
       " '2nd at Townsend',\n",
       " '2nd at Townsend',\n",
       " 'Harry Bridges Plaza (Ferry Building)',\n",
       " 'Powell Street BART',\n",
       " 'San Francisco Caltrain (Townsend at 4th)',\n",
       " 'Harry Bridges Plaza (Ferry Building)',\n",
       " 'Embarcadero at Sansome',\n",
       " 'Harry Bridges Plaza (Ferry Building)',\n",
       " 'Howard at 2nd',\n",
       " 'Steuart at Market',\n",
       " 'Embarcadero at Sansome',\n",
       " '2nd at South Park',\n",
       " 'Market at 4th',\n",
       " 'Beale at Market',\n",
       " 'Broadway St at Battery St',\n",
       " 'Davis at Jackson',\n",
       " 'Market at Sansome',\n",
       " 'Mechanics Plaza (Market at Battery)',\n",
       " 'Spear at Folsom',\n",
       " '2nd at Townsend',\n",
       " 'San Francisco Caltrain (Townsend at 4th)',\n",
       " 'Market at Sansome',\n",
       " '2nd at South Park',\n",
       " '2nd at Townsend',\n",
       " 'Steuart at Market',\n",
       " 'Embarcadero at Sansome',\n",
       " '2nd at South Park',\n",
       " 'Howard at 2nd',\n",
       " 'Market at 4th',\n",
       " 'Temporary Transbay Terminal (Howard at Beale)',\n",
       " 'Clay at Battery',\n",
       " '2nd at South Park',\n",
       " 'Beale at Market',\n",
       " 'Harry Bridges Plaza (Ferry Building)',\n",
       " 'San Francisco Caltrain (Townsend at 4th)',\n",
       " 'Spear at Folsom',\n",
       " 'Temporary Transbay Terminal (Howard at Beale)',\n",
       " '2nd at South Park',\n",
       " 'San Francisco Caltrain (Townsend at 4th)',\n",
       " 'Steuart at Market',\n",
       " 'Townsend at 7th',\n",
       " 'San Francisco Caltrain (Townsend at 4th)',\n",
       " '5th at Howard',\n",
       " 'Davis at Jackson',\n",
       " 'Broadway St at Battery St',\n",
       " 'San Francisco Caltrain (Townsend at 4th)',\n",
       " 'Civic Center BART (7th at Market)',\n",
       " 'Market at 10th',\n",
       " 'Market at 4th',\n",
       " 'Embarcadero at Sansome',\n",
       " 'Grant Avenue at Columbus Avenue',\n",
       " 'San Francisco Caltrain (Townsend at 4th)',\n",
       " 'Beale at Market',\n",
       " '2nd at South Park',\n",
       " 'Clay at Battery',\n",
       " 'San Francisco Caltrain (Townsend at 4th)',\n",
       " 'Steuart at Market',\n",
       " 'San Francisco Caltrain 2 (330 Townsend)',\n",
       " 'Harry Bridges Plaza (Ferry Building)',\n",
       " 'Market at Sansome',\n",
       " '2nd at Folsom',\n",
       " 'Davis at Jackson',\n",
       " 'Clay at Battery',\n",
       " 'South Van Ness at Market',\n",
       " 'Temporary Transbay Terminal (Howard at Beale)',\n",
       " 'Embarcadero at Sansome',\n",
       " 'Mechanics Plaza (Market at Battery)',\n",
       " 'Market at 4th',\n",
       " 'Temporary Transbay Terminal (Howard at Beale)',\n",
       " 'San Francisco Caltrain 2 (330 Townsend)',\n",
       " 'Market at Sansome',\n",
       " 'South Van Ness at Market',\n",
       " 'Powell Street BART',\n",
       " 'Civic Center BART (7th at Market)',\n",
       " 'Townsend at 7th',\n",
       " 'Embarcadero at Folsom',\n",
       " 'Davis at Jackson',\n",
       " 'Steuart at Market',\n",
       " 'Steuart at Market',\n",
       " 'Market at 4th',\n",
       " 'Embarcadero at Sansome',\n",
       " 'Embarcadero at Folsom',\n",
       " 'Broadway St at Battery St',\n",
       " 'Temporary Transbay Terminal (Howard at Beale)',\n",
       " 'South Van Ness at Market',\n",
       " 'Temporary Transbay Terminal (Howard at Beale)',\n",
       " 'Embarcadero at Sansome',\n",
       " 'Harry Bridges Plaza (Ferry Building)',\n",
       " 'South Van Ness at Market',\n",
       " 'Townsend at 7th',\n",
       " 'Townsend at 7th',\n",
       " 'Spear at Folsom',\n",
       " 'San Francisco Caltrain (Townsend at 4th)',\n",
       " 'Market at Sansome',\n",
       " 'San Francisco City Hall',\n",
       " 'Beale at Market',\n",
       " 'San Francisco Caltrain 2 (330 Townsend)',\n",
       " 'Townsend at 7th',\n",
       " 'San Francisco Caltrain (Townsend at 4th)',\n",
       " 'Mechanics Plaza (Market at Battery)',\n",
       " 'Powell Street BART',\n",
       " 'Market at 10th',\n",
       " 'San Francisco Caltrain (Townsend at 4th)',\n",
       " 'San Francisco Caltrain 2 (330 Townsend)',\n",
       " 'Powell Street BART',\n",
       " 'South Van Ness at Market',\n",
       " 'Temporary Transbay Terminal (Howard at Beale)',\n",
       " '5th at Howard',\n",
       " 'Steuart at Market',\n",
       " 'Embarcadero at Vallejo',\n",
       " 'Steuart at Market',\n",
       " '2nd at Townsend',\n",
       " 'Yerba Buena Center of the Arts (3rd @ Howard)',\n",
       " '5th at Howard',\n",
       " 'San Francisco Caltrain (Townsend at 4th)',\n",
       " 'Embarcadero at Bryant',\n",
       " 'Steuart at Market',\n",
       " 'Market at 4th',\n",
       " 'San Francisco City Hall',\n",
       " 'San Francisco City Hall',\n",
       " 'Clay at Battery',\n",
       " 'San Francisco Caltrain (Townsend at 4th)',\n",
       " 'Market at 4th',\n",
       " 'San Francisco Caltrain 2 (330 Townsend)',\n",
       " 'Beale at Market',\n",
       " 'Embarcadero at Bryant',\n",
       " 'Davis at Jackson',\n",
       " 'Embarcadero at Sansome',\n",
       " 'Davis at Jackson',\n",
       " 'Spear at Folsom',\n",
       " 'Howard at 2nd',\n",
       " 'San Francisco Caltrain (Townsend at 4th)',\n",
       " '5th at Howard',\n",
       " 'San Francisco Caltrain (Townsend at 4th)',\n",
       " 'Grant Avenue at Columbus Avenue',\n",
       " 'Powell Street BART',\n",
       " 'San Francisco City Hall',\n",
       " 'Powell Street BART',\n",
       " '2nd at Folsom',\n",
       " 'San Francisco Caltrain (Townsend at 4th)',\n",
       " 'San Francisco Caltrain (Townsend at 4th)',\n",
       " 'Harry Bridges Plaza (Ferry Building)',\n",
       " '2nd at Townsend',\n",
       " 'San Francisco Caltrain (Townsend at 4th)',\n",
       " 'Post at Kearny',\n",
       " 'San Francisco Caltrain (Townsend at 4th)',\n",
       " 'Powell Street BART',\n",
       " 'Powell Street BART',\n",
       " 'Embarcadero at Sansome',\n",
       " 'Broadway St at Battery St',\n",
       " 'Mechanics Plaza (Market at Battery)',\n",
       " 'San Francisco Caltrain (Townsend at 4th)',\n",
       " 'South Van Ness at Market',\n",
       " '5th at Howard',\n",
       " 'Townsend at 7th',\n",
       " 'Post at Kearny',\n",
       " 'Market at 4th',\n",
       " 'San Francisco Caltrain (Townsend at 4th)',\n",
       " 'Steuart at Market',\n",
       " 'Embarcadero at Sansome',\n",
       " '2nd at Townsend',\n",
       " 'Embarcadero at Sansome',\n",
       " 'Steuart at Market',\n",
       " 'San Francisco Caltrain 2 (330 Townsend)',\n",
       " 'Temporary Transbay Terminal (Howard at Beale)',\n",
       " 'San Francisco Caltrain (Townsend at 4th)',\n",
       " 'Market at Sansome',\n",
       " 'South Van Ness at Market',\n",
       " 'San Francisco Caltrain 2 (330 Townsend)',\n",
       " 'Commercial at Montgomery',\n",
       " '2nd at Townsend',\n",
       " 'Harry Bridges Plaza (Ferry Building)',\n",
       " 'Embarcadero at Sansome',\n",
       " 'Embarcadero at Sansome',\n",
       " 'Harry Bridges Plaza (Ferry Building)',\n",
       " 'Steuart at Market',\n",
       " 'Embarcadero at Sansome',\n",
       " 'Harry Bridges Plaza (Ferry Building)',\n",
       " 'Yerba Buena Center of the Arts (3rd @ Howard)',\n",
       " '2nd at Townsend',\n",
       " 'Powell at Post (Union Square)',\n",
       " 'Powell at Post (Union Square)',\n",
       " 'Powell at Post (Union Square)',\n",
       " '2nd at South Park',\n",
       " 'Yerba Buena Center of the Arts (3rd @ Howard)',\n",
       " 'Market at 10th',\n",
       " 'San Francisco Caltrain (Townsend at 4th)',\n",
       " 'Embarcadero at Vallejo',\n",
       " 'Commercial at Montgomery',\n",
       " 'Market at Sansome',\n",
       " 'San Francisco Caltrain (Townsend at 4th)',\n",
       " 'Townsend at 7th',\n",
       " 'San Francisco Caltrain (Townsend at 4th)',\n",
       " 'San Francisco Caltrain 2 (330 Townsend)',\n",
       " 'Powell Street BART',\n",
       " 'San Francisco Caltrain (Townsend at 4th)',\n",
       " 'Golden Gate at Polk',\n",
       " 'Temporary Transbay Terminal (Howard at Beale)',\n",
       " 'Howard at 2nd',\n",
       " 'San Francisco Caltrain (Townsend at 4th)',\n",
       " 'Yerba Buena Center of the Arts (3rd @ Howard)',\n",
       " 'Clay at Battery',\n",
       " 'Commercial at Montgomery',\n",
       " 'South Van Ness at Market',\n",
       " 'Market at 4th',\n",
       " '5th at Howard',\n",
       " '2nd at Folsom',\n",
       " 'San Francisco Caltrain (Townsend at 4th)',\n",
       " 'Howard at 2nd',\n",
       " 'San Francisco Caltrain (Townsend at 4th)',\n",
       " 'Townsend at 7th',\n",
       " 'Spear at Folsom',\n",
       " '2nd at Townsend',\n",
       " 'Temporary Transbay Terminal (Howard at Beale)',\n",
       " 'Howard at 2nd',\n",
       " 'Broadway St at Battery St',\n",
       " 'San Francisco Caltrain 2 (330 Townsend)',\n",
       " 'Market at 10th',\n",
       " 'San Francisco Caltrain (Townsend at 4th)',\n",
       " 'Spear at Folsom',\n",
       " 'San Francisco Caltrain 2 (330 Townsend)',\n",
       " 'Townsend at 7th',\n",
       " 'San Francisco Caltrain (Townsend at 4th)',\n",
       " 'San Francisco Caltrain (Townsend at 4th)',\n",
       " 'Mechanics Plaza (Market at Battery)',\n",
       " 'Civic Center BART (7th at Market)',\n",
       " 'San Francisco Caltrain (Townsend at 4th)',\n",
       " 'Powell Street BART',\n",
       " 'San Francisco Caltrain (Townsend at 4th)',\n",
       " 'Civic Center BART (7th at Market)',\n",
       " 'Market at 10th',\n",
       " 'Mechanics Plaza (Market at Battery)',\n",
       " 'Embarcadero at Folsom',\n",
       " 'Washington at Kearny',\n",
       " 'Embarcadero at Sansome',\n",
       " 'Washington at Kearny',\n",
       " 'Broadway St at Battery St',\n",
       " 'Steuart at Market',\n",
       " 'South Van Ness at Market',\n",
       " 'Civic Center BART (7th at Market)',\n",
       " 'Townsend at 7th',\n",
       " 'San Francisco Caltrain (Townsend at 4th)',\n",
       " 'Civic Center BART (7th at Market)',\n",
       " 'Market at Sansome',\n",
       " 'Harry Bridges Plaza (Ferry Building)',\n",
       " 'Washington at Kearny',\n",
       " 'Golden Gate at Polk',\n",
       " 'Embarcadero at Vallejo',\n",
       " 'Grant Avenue at Columbus Avenue',\n",
       " 'Temporary Transbay Terminal (Howard at Beale)',\n",
       " 'San Francisco Caltrain 2 (330 Townsend)',\n",
       " 'San Francisco Caltrain 2 (330 Townsend)',\n",
       " 'Broadway St at Battery St',\n",
       " 'Davis at Jackson',\n",
       " 'San Francisco Caltrain (Townsend at 4th)',\n",
       " 'Embarcadero at Folsom',\n",
       " '5th at Howard',\n",
       " 'Temporary Transbay Terminal (Howard at Beale)',\n",
       " 'Post at Kearny',\n",
       " 'Washington at Kearny',\n",
       " 'Market at Sansome',\n",
       " 'San Francisco Caltrain (Townsend at 4th)',\n",
       " 'San Francisco Caltrain (Townsend at 4th)',\n",
       " 'Broadway St at Battery St',\n",
       " 'Embarcadero at Sansome',\n",
       " 'Embarcadero at Bryant',\n",
       " 'San Francisco Caltrain (Townsend at 4th)',\n",
       " 'Mechanics Plaza (Market at Battery)',\n",
       " 'Temporary Transbay Terminal (Howard at Beale)',\n",
       " 'San Francisco Caltrain (Townsend at 4th)',\n",
       " 'Powell at Post (Union Square)',\n",
       " 'San Francisco Caltrain (Townsend at 4th)',\n",
       " 'Townsend at 7th',\n",
       " 'Powell at Post (Union Square)',\n",
       " 'Harry Bridges Plaza (Ferry Building)',\n",
       " 'Market at Sansome',\n",
       " '2nd at South Park',\n",
       " 'Market at Sansome',\n",
       " 'Market at 4th',\n",
       " 'Steuart at Market',\n",
       " '2nd at Townsend',\n",
       " 'Embarcadero at Folsom',\n",
       " 'San Francisco Caltrain (Townsend at 4th)',\n",
       " 'Embarcadero at Folsom',\n",
       " 'Market at 10th',\n",
       " '5th at Howard',\n",
       " '2nd at South Park',\n",
       " 'Townsend at 7th',\n",
       " 'Harry Bridges Plaza (Ferry Building)',\n",
       " 'San Francisco Caltrain (Townsend at 4th)',\n",
       " '5th at Howard',\n",
       " 'San Francisco Caltrain 2 (330 Townsend)',\n",
       " '5th at Howard',\n",
       " 'Market at 4th',\n",
       " 'South Van Ness at Market',\n",
       " 'Civic Center BART (7th at Market)',\n",
       " 'San Francisco Caltrain (Townsend at 4th)',\n",
       " 'Harry Bridges Plaza (Ferry Building)',\n",
       " 'San Francisco Caltrain (Townsend at 4th)',\n",
       " 'Temporary Transbay Terminal (Howard at Beale)',\n",
       " 'Market at 4th',\n",
       " 'Harry Bridges Plaza (Ferry Building)',\n",
       " 'Grant Avenue at Columbus Avenue',\n",
       " 'Grant Avenue at Columbus Avenue',\n",
       " 'Harry Bridges Plaza (Ferry Building)',\n",
       " 'Powell Street BART',\n",
       " 'Temporary Transbay Terminal (Howard at Beale)',\n",
       " 'Harry Bridges Plaza (Ferry Building)',\n",
       " 'Harry Bridges Plaza (Ferry Building)',\n",
       " 'Yerba Buena Center of the Arts (3rd @ Howard)',\n",
       " ...]"
      ]
     },
     "execution_count": 82,
     "metadata": {},
     "output_type": "execute_result"
    }
   ],
   "source": [
    "path"
   ]
  },
  {
   "cell_type": "markdown",
   "id": "9a7cda22",
   "metadata": {},
   "source": [
    "4. Find the total number of bikes in the whole system"
   ]
  },
  {
   "cell_type": "code",
   "execution_count": 83,
   "id": "38e2a997",
   "metadata": {},
   "outputs": [
    {
     "data": {
      "text/plain": [
       "700"
      ]
     },
     "execution_count": 83,
     "metadata": {},
     "output_type": "execute_result"
    }
   ],
   "source": [
    "trips_internal.map(lambda trip: trip.bike_id).distinct().count()"
   ]
  },
  {
   "cell_type": "markdown",
   "id": "20de14a8",
   "metadata": {},
   "source": [
    "5. Find users that spent more than 3 hours on their trips"
   ]
  },
  {
   "cell_type": "code",
   "execution_count": 84,
   "id": "f70b85c8",
   "metadata": {},
   "outputs": [],
   "source": [
    "# one trip is considered as one user\n",
    "\n",
    "time_sec = 3 * 60 * 60\n",
    "required_users = trips_internal.filter(lambda trip: (trip.duration > time_sec)).map(lambda trip: trip.trip_id)"
   ]
  },
  {
   "cell_type": "code",
   "execution_count": 85,
   "id": "2a4544e3",
   "metadata": {},
   "outputs": [
    {
     "data": {
      "text/plain": [
       "8322"
      ]
     },
     "execution_count": 85,
     "metadata": {},
     "output_type": "execute_result"
    }
   ],
   "source": [
    "required_users.count()"
   ]
  },
  {
   "cell_type": "code",
   "execution_count": 86,
   "id": "d59dbdb2",
   "metadata": {},
   "outputs": [
    {
     "data": {
      "text/plain": [
       "[4639, 4637, 4528, 4363, 4193, 4190, 4225, 4663, 4532, 4521]"
      ]
     },
     "execution_count": 86,
     "metadata": {},
     "output_type": "execute_result"
    }
   ],
   "source": [
    "required_users.take(10)"
   ]
  },
  {
   "cell_type": "code",
   "execution_count": null,
   "id": "576fcb3c",
   "metadata": {},
   "outputs": [],
   "source": []
  }
 ],
 "metadata": {
  "kernelspec": {
   "display_name": "Python 3",
   "language": "python",
   "name": "python3"
  },
  "language_info": {
   "codemirror_mode": {
    "name": "ipython",
    "version": 3
   },
   "file_extension": ".py",
   "mimetype": "text/x-python",
   "name": "python",
   "nbconvert_exporter": "python",
   "pygments_lexer": "ipython3",
   "version": "3.6.9"
  }
 },
 "nbformat": 4,
 "nbformat_minor": 5
}
